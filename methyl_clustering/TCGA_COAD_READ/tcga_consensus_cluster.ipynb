{
 "cells": [
  {
   "cell_type": "markdown",
   "metadata": {},
   "source": [
    "# ConsensusClusterPlus in R"
   ]
  },
  {
   "cell_type": "code",
   "execution_count": 24,
   "metadata": {},
   "outputs": [],
   "source": [
    "#library(\"wateRmelon\")\n",
    "# https://bioconductor.org/packages/release/bioc/vignettes/wateRmelon/inst/doc/wateRmelon.pdf\n",
    "# https://bioconductor.riken.jp/packages/3.3/bioc/manuals/wateRmelon/man/wateRmelon.pdf\n",
    "#library(methylumi)\n",
    "\n",
    "# run consensus cluster plus: http://bioconductor.org/packages/release/bioc/vignettes/ConsensusClusterPlus/inst/doc/ConsensusClusterPlus.pdf\n",
    "#if (!requireNamespace(\"BiocManager\", quietly = TRUE))\n",
    "#    install.packages(\"BiocManager\")\n",
    "#BiocManager::install(\"ConsensusClusterPlus\")\n",
    "library(ConsensusClusterPlus)"
   ]
  },
  {
   "cell_type": "code",
   "execution_count": 2,
   "metadata": {},
   "outputs": [
    {
     "name": "stderr",
     "output_type": "stream",
     "text": [
      "starting httpd help server ...\n",
      " done\n",
      "\n"
     ]
    }
   ],
   "source": [
    "# TCGA data files have likely already undergone background correction adn dye-bias correction. \n",
    "# this should control for  typeI/typeII differences, but doesnt seem to entirely. \n",
    "# moot if using beta values with binary mask"
   ]
  },
  {
   "cell_type": "code",
   "execution_count": 55,
   "metadata": {},
   "outputs": [
    {
     "data": {
      "text/html": [
       "<ol class=list-inline>\n",
       "\t<li>361</li>\n",
       "\t<li>1000</li>\n",
       "</ol>\n"
      ],
      "text/latex": [
       "\\begin{enumerate*}\n",
       "\\item 361\n",
       "\\item 1000\n",
       "\\end{enumerate*}\n"
      ],
      "text/markdown": [
       "1. 361\n",
       "2. 1000\n",
       "\n",
       "\n"
      ],
      "text/plain": [
       "[1]  361 1000"
      ]
     },
     "metadata": {},
     "output_type": "display_data"
    },
    {
     "data": {
      "text/html": [
       "<table>\n",
       "<caption>A matrix: 6 × 1000 of type dbl</caption>\n",
       "<thead>\n",
       "\t<tr><th></th><th scope=col>cg03616722</th><th scope=col>cg18222083</th><th scope=col>cg11738485</th><th scope=col>cg17300544</th><th scope=col>cg17510056</th><th scope=col>cg06509223</th><th scope=col>cg13205384</th><th scope=col>cg20196215</th><th scope=col>cg20776829</th><th scope=col>cg12539796</th><th scope=col>⋯</th><th scope=col>cg04336836</th><th scope=col>cg19850348</th><th scope=col>cg14453201</th><th scope=col>cg12737152</th><th scope=col>cg23045719</th><th scope=col>cg13742526</th><th scope=col>cg23539933</th><th scope=col>cg09508531</th><th scope=col>cg02484469</th><th scope=col>cg09279240</th></tr>\n",
       "</thead>\n",
       "<tbody>\n",
       "\t<tr><th scope=row>TCGA-CI-6620-01A-11D-1828-05</th><td>0.2730491</td><td>0.02571368</td><td>0.6256951</td><td>0.04824680</td><td>0.04478184</td><td>0.91205278</td><td>0.33539434</td><td>0.5760381</td><td>0.02742225</td><td>0.04083147</td><td>⋯</td><td>0.58591482</td><td>0.45683237</td><td>0.52459655</td><td>0.02362268</td><td>0.38966678</td><td>0.29742691</td><td>0.58029465</td><td>0.03273436</td><td>0.418613655</td><td>0.03402600</td></tr>\n",
       "\t<tr><th scope=row>TCGA-EI-6882-01A-11D-1926-05</th><td>0.4103747</td><td>0.61567129</td><td>0.6379284</td><td>0.04203827</td><td>0.04562850</td><td>0.89243691</td><td>0.94027397</td><td>0.9136101</td><td>0.56800211</td><td>0.22900816</td><td>⋯</td><td>0.34082954</td><td>0.53476553</td><td>0.90335168</td><td>0.60098457</td><td>0.33387984</td><td>0.74309022</td><td>0.63245789</td><td>0.17196879</td><td>0.826279514</td><td>0.40971143</td></tr>\n",
       "\t<tr><th scope=row>TCGA-CI-6622-01A-11D-1828-05</th><td>0.1649976</td><td>0.02327784</td><td>0.9828958</td><td>0.08895300</td><td>0.69634445</td><td>0.07302612</td><td>0.79601241</td><td>0.1579945</td><td>0.74454390</td><td>0.02575274</td><td>⋯</td><td>0.04505240</td><td>0.07522610</td><td>0.70153285</td><td>0.54695307</td><td>0.01515970</td><td>0.07935585</td><td>0.11735846</td><td>0.02065233</td><td>0.768215891</td><td>0.02574433</td></tr>\n",
       "\t<tr><th scope=row>TCGA-EI-6509-01A-11D-1734-05</th><td>0.1234680</td><td>0.02997401</td><td>0.5362339</td><td>0.70750864</td><td>0.40019566</td><td>0.54222743</td><td>0.04785236</td><td>0.2369834</td><td>0.01776330</td><td>0.02825046</td><td>⋯</td><td>0.02867564</td><td>0.01163012</td><td>0.03489097</td><td>0.01796650</td><td>0.01161259</td><td>0.01731528</td><td>0.05704351</td><td>0.01520891</td><td>0.009380666</td><td>0.01833218</td></tr>\n",
       "\t<tr><th scope=row>TCGA-DY-A1H8-01A-21D-A153-05</th><td>0.9022145</td><td>0.93627649</td><td>0.9779110</td><td>0.04167064</td><td>0.05164847</td><td>0.92896820</td><td>0.08098451</td><td>0.7795124</td><td>0.01779990</td><td>0.03759749</td><td>⋯</td><td>0.32671495</td><td>0.02685311</td><td>0.67170719</td><td>0.03685075</td><td>0.01574805</td><td>0.77454629</td><td>0.07467122</td><td>0.02188353</td><td>0.063003452</td><td>0.01874133</td></tr>\n",
       "\t<tr><th scope=row>TCGA-DC-5869-01A-01D-1658-05</th><td>0.2094590</td><td>0.22345307</td><td>0.5960873</td><td>0.08032846</td><td>0.92722371</td><td>0.34927217</td><td>0.09156665</td><td>0.2533636</td><td>0.57045543</td><td>0.03333091</td><td>⋯</td><td>0.27697004</td><td>0.01700004</td><td>0.56732877</td><td>0.48600957</td><td>0.57088402</td><td>0.28456823</td><td>0.08893853</td><td>0.28373321</td><td>0.747147159</td><td>0.02652155</td></tr>\n",
       "</tbody>\n",
       "</table>\n"
      ],
      "text/latex": [
       "A matrix: 6 × 1000 of type dbl\n",
       "\\begin{tabular}{r|lllllllllllllllllllll}\n",
       "  & cg03616722 & cg18222083 & cg11738485 & cg17300544 & cg17510056 & cg06509223 & cg13205384 & cg20196215 & cg20776829 & cg12539796 & ⋯ & cg04336836 & cg19850348 & cg14453201 & cg12737152 & cg23045719 & cg13742526 & cg23539933 & cg09508531 & cg02484469 & cg09279240\\\\\n",
       "\\hline\n",
       "\tTCGA-CI-6620-01A-11D-1828-05 & 0.2730491 & 0.02571368 & 0.6256951 & 0.04824680 & 0.04478184 & 0.91205278 & 0.33539434 & 0.5760381 & 0.02742225 & 0.04083147 & ⋯ & 0.58591482 & 0.45683237 & 0.52459655 & 0.02362268 & 0.38966678 & 0.29742691 & 0.58029465 & 0.03273436 & 0.418613655 & 0.03402600\\\\\n",
       "\tTCGA-EI-6882-01A-11D-1926-05 & 0.4103747 & 0.61567129 & 0.6379284 & 0.04203827 & 0.04562850 & 0.89243691 & 0.94027397 & 0.9136101 & 0.56800211 & 0.22900816 & ⋯ & 0.34082954 & 0.53476553 & 0.90335168 & 0.60098457 & 0.33387984 & 0.74309022 & 0.63245789 & 0.17196879 & 0.826279514 & 0.40971143\\\\\n",
       "\tTCGA-CI-6622-01A-11D-1828-05 & 0.1649976 & 0.02327784 & 0.9828958 & 0.08895300 & 0.69634445 & 0.07302612 & 0.79601241 & 0.1579945 & 0.74454390 & 0.02575274 & ⋯ & 0.04505240 & 0.07522610 & 0.70153285 & 0.54695307 & 0.01515970 & 0.07935585 & 0.11735846 & 0.02065233 & 0.768215891 & 0.02574433\\\\\n",
       "\tTCGA-EI-6509-01A-11D-1734-05 & 0.1234680 & 0.02997401 & 0.5362339 & 0.70750864 & 0.40019566 & 0.54222743 & 0.04785236 & 0.2369834 & 0.01776330 & 0.02825046 & ⋯ & 0.02867564 & 0.01163012 & 0.03489097 & 0.01796650 & 0.01161259 & 0.01731528 & 0.05704351 & 0.01520891 & 0.009380666 & 0.01833218\\\\\n",
       "\tTCGA-DY-A1H8-01A-21D-A153-05 & 0.9022145 & 0.93627649 & 0.9779110 & 0.04167064 & 0.05164847 & 0.92896820 & 0.08098451 & 0.7795124 & 0.01779990 & 0.03759749 & ⋯ & 0.32671495 & 0.02685311 & 0.67170719 & 0.03685075 & 0.01574805 & 0.77454629 & 0.07467122 & 0.02188353 & 0.063003452 & 0.01874133\\\\\n",
       "\tTCGA-DC-5869-01A-01D-1658-05 & 0.2094590 & 0.22345307 & 0.5960873 & 0.08032846 & 0.92722371 & 0.34927217 & 0.09156665 & 0.2533636 & 0.57045543 & 0.03333091 & ⋯ & 0.27697004 & 0.01700004 & 0.56732877 & 0.48600957 & 0.57088402 & 0.28456823 & 0.08893853 & 0.28373321 & 0.747147159 & 0.02652155\\\\\n",
       "\\end{tabular}\n"
      ],
      "text/markdown": [
       "\n",
       "A matrix: 6 × 1000 of type dbl\n",
       "\n",
       "| <!--/--> | cg03616722 | cg18222083 | cg11738485 | cg17300544 | cg17510056 | cg06509223 | cg13205384 | cg20196215 | cg20776829 | cg12539796 | ⋯ | cg04336836 | cg19850348 | cg14453201 | cg12737152 | cg23045719 | cg13742526 | cg23539933 | cg09508531 | cg02484469 | cg09279240 |\n",
       "|---|---|---|---|---|---|---|---|---|---|---|---|---|---|---|---|---|---|---|---|---|---|\n",
       "| TCGA-CI-6620-01A-11D-1828-05 | 0.2730491 | 0.02571368 | 0.6256951 | 0.04824680 | 0.04478184 | 0.91205278 | 0.33539434 | 0.5760381 | 0.02742225 | 0.04083147 | ⋯ | 0.58591482 | 0.45683237 | 0.52459655 | 0.02362268 | 0.38966678 | 0.29742691 | 0.58029465 | 0.03273436 | 0.418613655 | 0.03402600 |\n",
       "| TCGA-EI-6882-01A-11D-1926-05 | 0.4103747 | 0.61567129 | 0.6379284 | 0.04203827 | 0.04562850 | 0.89243691 | 0.94027397 | 0.9136101 | 0.56800211 | 0.22900816 | ⋯ | 0.34082954 | 0.53476553 | 0.90335168 | 0.60098457 | 0.33387984 | 0.74309022 | 0.63245789 | 0.17196879 | 0.826279514 | 0.40971143 |\n",
       "| TCGA-CI-6622-01A-11D-1828-05 | 0.1649976 | 0.02327784 | 0.9828958 | 0.08895300 | 0.69634445 | 0.07302612 | 0.79601241 | 0.1579945 | 0.74454390 | 0.02575274 | ⋯ | 0.04505240 | 0.07522610 | 0.70153285 | 0.54695307 | 0.01515970 | 0.07935585 | 0.11735846 | 0.02065233 | 0.768215891 | 0.02574433 |\n",
       "| TCGA-EI-6509-01A-11D-1734-05 | 0.1234680 | 0.02997401 | 0.5362339 | 0.70750864 | 0.40019566 | 0.54222743 | 0.04785236 | 0.2369834 | 0.01776330 | 0.02825046 | ⋯ | 0.02867564 | 0.01163012 | 0.03489097 | 0.01796650 | 0.01161259 | 0.01731528 | 0.05704351 | 0.01520891 | 0.009380666 | 0.01833218 |\n",
       "| TCGA-DY-A1H8-01A-21D-A153-05 | 0.9022145 | 0.93627649 | 0.9779110 | 0.04167064 | 0.05164847 | 0.92896820 | 0.08098451 | 0.7795124 | 0.01779990 | 0.03759749 | ⋯ | 0.32671495 | 0.02685311 | 0.67170719 | 0.03685075 | 0.01574805 | 0.77454629 | 0.07467122 | 0.02188353 | 0.063003452 | 0.01874133 |\n",
       "| TCGA-DC-5869-01A-01D-1658-05 | 0.2094590 | 0.22345307 | 0.5960873 | 0.08032846 | 0.92722371 | 0.34927217 | 0.09156665 | 0.2533636 | 0.57045543 | 0.03333091 | ⋯ | 0.27697004 | 0.01700004 | 0.56732877 | 0.48600957 | 0.57088402 | 0.28456823 | 0.08893853 | 0.28373321 | 0.747147159 | 0.02652155 |\n",
       "\n"
      ],
      "text/plain": [
       "                             cg03616722 cg18222083 cg11738485 cg17300544\n",
       "TCGA-CI-6620-01A-11D-1828-05 0.2730491  0.02571368 0.6256951  0.04824680\n",
       "TCGA-EI-6882-01A-11D-1926-05 0.4103747  0.61567129 0.6379284  0.04203827\n",
       "TCGA-CI-6622-01A-11D-1828-05 0.1649976  0.02327784 0.9828958  0.08895300\n",
       "TCGA-EI-6509-01A-11D-1734-05 0.1234680  0.02997401 0.5362339  0.70750864\n",
       "TCGA-DY-A1H8-01A-21D-A153-05 0.9022145  0.93627649 0.9779110  0.04167064\n",
       "TCGA-DC-5869-01A-01D-1658-05 0.2094590  0.22345307 0.5960873  0.08032846\n",
       "                             cg17510056 cg06509223 cg13205384 cg20196215\n",
       "TCGA-CI-6620-01A-11D-1828-05 0.04478184 0.91205278 0.33539434 0.5760381 \n",
       "TCGA-EI-6882-01A-11D-1926-05 0.04562850 0.89243691 0.94027397 0.9136101 \n",
       "TCGA-CI-6622-01A-11D-1828-05 0.69634445 0.07302612 0.79601241 0.1579945 \n",
       "TCGA-EI-6509-01A-11D-1734-05 0.40019566 0.54222743 0.04785236 0.2369834 \n",
       "TCGA-DY-A1H8-01A-21D-A153-05 0.05164847 0.92896820 0.08098451 0.7795124 \n",
       "TCGA-DC-5869-01A-01D-1658-05 0.92722371 0.34927217 0.09156665 0.2533636 \n",
       "                             cg20776829 cg12539796 ⋯ cg04336836 cg19850348\n",
       "TCGA-CI-6620-01A-11D-1828-05 0.02742225 0.04083147 ⋯ 0.58591482 0.45683237\n",
       "TCGA-EI-6882-01A-11D-1926-05 0.56800211 0.22900816 ⋯ 0.34082954 0.53476553\n",
       "TCGA-CI-6622-01A-11D-1828-05 0.74454390 0.02575274 ⋯ 0.04505240 0.07522610\n",
       "TCGA-EI-6509-01A-11D-1734-05 0.01776330 0.02825046 ⋯ 0.02867564 0.01163012\n",
       "TCGA-DY-A1H8-01A-21D-A153-05 0.01779990 0.03759749 ⋯ 0.32671495 0.02685311\n",
       "TCGA-DC-5869-01A-01D-1658-05 0.57045543 0.03333091 ⋯ 0.27697004 0.01700004\n",
       "                             cg14453201 cg12737152 cg23045719 cg13742526\n",
       "TCGA-CI-6620-01A-11D-1828-05 0.52459655 0.02362268 0.38966678 0.29742691\n",
       "TCGA-EI-6882-01A-11D-1926-05 0.90335168 0.60098457 0.33387984 0.74309022\n",
       "TCGA-CI-6622-01A-11D-1828-05 0.70153285 0.54695307 0.01515970 0.07935585\n",
       "TCGA-EI-6509-01A-11D-1734-05 0.03489097 0.01796650 0.01161259 0.01731528\n",
       "TCGA-DY-A1H8-01A-21D-A153-05 0.67170719 0.03685075 0.01574805 0.77454629\n",
       "TCGA-DC-5869-01A-01D-1658-05 0.56732877 0.48600957 0.57088402 0.28456823\n",
       "                             cg23539933 cg09508531 cg02484469  cg09279240\n",
       "TCGA-CI-6620-01A-11D-1828-05 0.58029465 0.03273436 0.418613655 0.03402600\n",
       "TCGA-EI-6882-01A-11D-1926-05 0.63245789 0.17196879 0.826279514 0.40971143\n",
       "TCGA-CI-6622-01A-11D-1828-05 0.11735846 0.02065233 0.768215891 0.02574433\n",
       "TCGA-EI-6509-01A-11D-1734-05 0.05704351 0.01520891 0.009380666 0.01833218\n",
       "TCGA-DY-A1H8-01A-21D-A153-05 0.07467122 0.02188353 0.063003452 0.01874133\n",
       "TCGA-DC-5869-01A-01D-1658-05 0.08893853 0.28373321 0.747147159 0.02652155"
      ]
     },
     "metadata": {},
     "output_type": "display_data"
    }
   ],
   "source": [
    "# load raw beta vals\n",
    "top_prbs = read.csv(\"./df_tcga_top1K_v1_probes_crc.csv\", header=TRUE)\n",
    "rownames(top_prbs) <- top_prbs[,colnames(top_prbs)[1]]\n",
    "top_prbs <- data.matrix(transpose(top_prbs[,2:length(top_prbs)]))\n",
    "\n",
    "dim(top_prbs)\n",
    "head(top_prbs)"
   ]
  },
  {
   "cell_type": "code",
   "execution_count": 78,
   "metadata": {},
   "outputs": [],
   "source": [
    "# not going to normalize values here because all probes are on the same 0-1 scale, \n",
    "# should not cause one probe to have more influence than another. \n",
    "top_prbs <- t(top_prbs)"
   ]
  },
  {
   "cell_type": "code",
   "execution_count": null,
   "metadata": {},
   "outputs": [],
   "source": [
    "#Consensus cluster masked data \n",
    "\n",
    "# load mask data\n",
    "top_prbs_msk = read.csv(\"./df_tcga_top1k_v1_probes_crc_pt2mask.csv\", header=TRUE)\n",
    "rownames(top_prbs_msk) <- top_prbs_msk[,colnames(top_prbs_msk)[1]]\n",
    "top_prbs_msk <- data.matrix(t(top_prbs_msk[,2:length(top_prbs_msk)]))\n",
    "\n",
    "dim(top_prbs_msk)\n",
    "#head(top_prbs_msk)\n",
    "\n",
    "# Hierarchical clustering produces some clusters with only 1 sample \n",
    "#results_msk_hc = ConsensusClusterPlus(top_prbs_msk, maxK=8, reps=10, pItem=0.8, pFeature=1, title=\"./ConClust_hc_mask\",\n",
    "#                              clusterAlg=\"hc\", distance=\"binary\", seed=100, plot=\"png\", writeTable=TRUE,\n",
    "#                              verbose=FALSE)\n",
    "\n",
    "results_msk_kmeans = ConsensusClusterPlus(top_prbs_msk, maxK=8, reps=10, pItem=0.8, pFeature=1, title=\"./ConClust_kmeans_mask\",\n",
    "                              clusterAlg=\"kmdist\", distance=\"binary\", seed=100, plot=\"png\", writeTable=TRUE,\n",
    "                              verbose=FALSE)"
   ]
  },
  {
   "cell_type": "code",
   "execution_count": 92,
   "metadata": {},
   "outputs": [
    {
     "data": {
      "text/html": [
       "<table>\n",
       "<caption>A data.frame: 6 × 2</caption>\n",
       "<thead>\n",
       "\t<tr><th></th><th scope=col>sample</th><th scope=col>cluster</th></tr>\n",
       "\t<tr><th></th><th scope=col>&lt;fct&gt;</th><th scope=col>&lt;int&gt;</th></tr>\n",
       "</thead>\n",
       "<tbody>\n",
       "\t<tr><th scope=row>1</th><td>TCGA-CI-6620-01A-11D-1828-05</td><td>1</td></tr>\n",
       "\t<tr><th scope=row>2</th><td>TCGA-EI-6882-01A-11D-1926-05</td><td>1</td></tr>\n",
       "\t<tr><th scope=row>3</th><td>TCGA-CI-6622-01A-11D-1828-05</td><td>1</td></tr>\n",
       "\t<tr><th scope=row>4</th><td>TCGA-EI-6509-01A-11D-1734-05</td><td>2</td></tr>\n",
       "\t<tr><th scope=row>5</th><td>TCGA-DY-A1H8-01A-21D-A153-05</td><td>2</td></tr>\n",
       "\t<tr><th scope=row>6</th><td>TCGA-DC-5869-01A-01D-1658-05</td><td>1</td></tr>\n",
       "</tbody>\n",
       "</table>\n"
      ],
      "text/latex": [
       "A data.frame: 6 × 2\n",
       "\\begin{tabular}{r|ll}\n",
       "  & sample & cluster\\\\\n",
       "  & <fct> & <int>\\\\\n",
       "\\hline\n",
       "\t1 & TCGA-CI-6620-01A-11D-1828-05 & 1\\\\\n",
       "\t2 & TCGA-EI-6882-01A-11D-1926-05 & 1\\\\\n",
       "\t3 & TCGA-CI-6622-01A-11D-1828-05 & 1\\\\\n",
       "\t4 & TCGA-EI-6509-01A-11D-1734-05 & 2\\\\\n",
       "\t5 & TCGA-DY-A1H8-01A-21D-A153-05 & 2\\\\\n",
       "\t6 & TCGA-DC-5869-01A-01D-1658-05 & 1\\\\\n",
       "\\end{tabular}\n"
      ],
      "text/markdown": [
       "\n",
       "A data.frame: 6 × 2\n",
       "\n",
       "| <!--/--> | sample &lt;fct&gt; | cluster &lt;int&gt; |\n",
       "|---|---|---|\n",
       "| 1 | TCGA-CI-6620-01A-11D-1828-05 | 1 |\n",
       "| 2 | TCGA-EI-6882-01A-11D-1926-05 | 1 |\n",
       "| 3 | TCGA-CI-6622-01A-11D-1828-05 | 1 |\n",
       "| 4 | TCGA-EI-6509-01A-11D-1734-05 | 2 |\n",
       "| 5 | TCGA-DY-A1H8-01A-21D-A153-05 | 2 |\n",
       "| 6 | TCGA-DC-5869-01A-01D-1658-05 | 1 |\n",
       "\n"
      ],
      "text/plain": [
       "  sample                       cluster\n",
       "1 TCGA-CI-6620-01A-11D-1828-05 1      \n",
       "2 TCGA-EI-6882-01A-11D-1926-05 1      \n",
       "3 TCGA-CI-6622-01A-11D-1828-05 1      \n",
       "4 TCGA-EI-6509-01A-11D-1734-05 2      \n",
       "5 TCGA-DY-A1H8-01A-21D-A153-05 2      \n",
       "6 TCGA-DC-5869-01A-01D-1658-05 1      "
      ]
     },
     "metadata": {},
     "output_type": "display_data"
    }
   ],
   "source": [
    "# cluster labels are automatically written to outfiles:\n",
    "labels = read.csv(\"./ConClust_kmeans_mask/ConClust_kmeans_mask.k=2.consensusClass.csv\", header=FALSE)\n",
    "colnames(labels) <- c(\"sample\",\"cluster\")\n",
    "head(labels)\n",
    "\n",
    "\n"
   ]
  },
  {
   "cell_type": "code",
   "execution_count": null,
   "metadata": {},
   "outputs": [],
   "source": []
  }
 ],
 "metadata": {
  "kernelspec": {
   "display_name": "R",
   "language": "R",
   "name": "ir"
  },
  "language_info": {
   "codemirror_mode": "r",
   "file_extension": ".r",
   "mimetype": "text/x-r-source",
   "name": "R",
   "pygments_lexer": "r",
   "version": "3.6.1"
  }
 },
 "nbformat": 4,
 "nbformat_minor": 4
}
