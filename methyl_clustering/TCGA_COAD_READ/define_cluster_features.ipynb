{
 "cells": [
  {
   "cell_type": "markdown",
   "metadata": {},
   "source": [
    "# find cluster predictive regions"
   ]
  },
  {
   "cell_type": "code",
   "execution_count": 1,
   "metadata": {},
   "outputs": [],
   "source": [
    "import pandas as pd\n",
    "import numpy as np\n",
    "\n",
    "from sklearn.svm import LinearSVC\n",
    "from sklearn.linear_model import LogisticRegression\n",
    "from sklearn.datasets import load_iris\n",
    "from sklearn.feature_selection import SelectFromModel\n",
    "from sklearn.ensemble import RandomForestClassifier\n",
    "\n",
    "from collections import Counter, defaultdict\n",
    "import pickle\n",
    "\n",
    "import matplotlib\n",
    "%matplotlib inline\n",
    "from matplotlib import pyplot as plt"
   ]
  },
  {
   "cell_type": "code",
   "execution_count": 2,
   "metadata": {},
   "outputs": [],
   "source": [
    "#load top 1k masked probes\n",
    "df_top_v1_prb_crc = pd.read_csv(\"./df_tcga_top1k_v1_probes_crc_pt2mask.csv\")\n",
    "df_top_v1_prb_crc.set_index(\"Unnamed: 0\", inplace=True)\n",
    "#print(df_top_v1_prb_crc.head())\n",
    "\n",
    "#load consensus cluster labels\n",
    "def create_clust_labels(file, data):\n",
    "    df_clusters = pd.read_csv(file, header=None)\n",
    "    cluster_dict = {}\n",
    "    for i, row in df_clusters.iterrows():\n",
    "        cluster_dict[row[0]] = row[1]\n",
    "    clust_labels = [cluster_dict[sam] for sam in data.index]\n",
    "    clust_labels = np.array(clust_labels).astype(str)\n",
    "    print(Counter(clust_labels))\n",
    "    return clust_labels"
   ]
  },
  {
   "cell_type": "code",
   "execution_count": 63,
   "metadata": {},
   "outputs": [],
   "source": [
    "# plot feature importance for cluster generation\n",
    "def select_features(data, cluster_labels, outfile=None, prev_feat_to_keep = None, nseeds=10):\n",
    "    ''' generte an l1 regularized logreg that predicts cluster membership. \n",
    "    keep any features where the coeficient is not zero. \n",
    "    each coefficient can be interpreted as the expected change in log odds of cluster membership \n",
    "    for a one-unit increase in the percent methylation.\n",
    "    #https://rpubs.com/OmaymaS/182726\n",
    "    \n",
    "    output features and an annotation of which feature is hypermethylated has a positive non-zero coeff. \n",
    "    In the end there should be N sets of features, each \n",
    "    characterizing a co-methylation group for each methylation subtype\n",
    "    \n",
    "    Return:\n",
    "        signatures: a list of lists. each sublist a set of features whose hypermethylation defines\n",
    "        one methylation subtype\n",
    "    '''\n",
    "    classes = set(clust_labels)\n",
    "    print(f\"N clusters: {len(classes)}\")\n",
    "    \n",
    "    # MN LogReg regularized coefficients . . this works better than RF feature importances\n",
    "    ## NOTE: this method outputs 80-100 features depending on random seed so repeat many times\n",
    "    clf = LogisticRegression(penalty=\"l1\", solver='liblinear') \n",
    "    coefs=[]\n",
    "    for rep in range(nseeds):\n",
    "        clf.fit(data, clust_labels)\n",
    "        coefs.append(list(clf.coef_[0]))\n",
    "    df_coefs = pd.DataFrame.from_records(coefs)\n",
    "    #print(df_coefs.shape)\n",
    "    df_coefs.columns = data.columns\n",
    "    avg_coefs = df_coefs.apply(np.median, axis=0)\n",
    "    \n",
    "    signatures = []\n",
    "    if len(classes)==2:\n",
    "        plt.figure(figsize=(30,10))\n",
    "        plt.scatter(x=range(len(data.columns)), y=np.sort(avg_coefs))\n",
    "        cl1_feat_bool = [c > 0 for c in avg_coefs]\n",
    "        print(f\"cluster 1 features: {np.sum(np.array(cl1_feat_bool))}\")\n",
    "        cl2_feat_bool = [c < 0 for c in avg_coefs]\n",
    "        print(f\"cluster 2 features: {np.sum(np.array(cl2_feat_bool))}\")\n",
    "        signatures = [cl1_feat_bool, cl2_feat_bool]\n",
    "    else:\n",
    "        print(\"fix multinomial reporting\")\n",
    "        return\n",
    "        plt.figure()\n",
    "        for i, cluster in enumerate(classes):\n",
    "            plt.subplot(len(classes), 1, i+1)\n",
    "            plt.title(f\"Class {cluster} vs. all\")\n",
    "            plt.scatter(x=range(len(data.columns)), y=np.sort(clf.coef_[i,:]))\n",
    "            cl_feat_bool = [c > 0 for c in clf.coef_[i]]\n",
    "            print(f\"cluster {i} features: {np.sum(np.array(cl_feat_bool))}\")\n",
    "            signatures.append(cl_feat_bool)\n",
    "    \n",
    "    all_feat_to_keep = []\n",
    "    clust_annot = []\n",
    "    for i, sig in enumerate(signatures):\n",
    "        all_feat_to_keep.extend(np.array(data.columns)[sig])\n",
    "        clust_annot.extend(str(i)*len(np.array(data.columns)[sig])) \n",
    "\n",
    "    # from this we find that the majority of features are repeatedly selected with diff random seeds.\n",
    "    if prev_feat_to_keep:\n",
    "        print(f\"repeat features: {np.sum(np.array([x in prev_feat_to_keep for x in all_feat_to_keep]))}\")\n",
    "    \n",
    "    print(f\"features to keep: {len(all_feat_to_keep)}\")\n",
    "    df_out = pd.DataFrame(zip(all_feat_to_keep, clust_annot))\n",
    "    print(df_out.groupby(1).count())\n",
    "    df_out.columns = [\"marker\",\"cluster\"]\n",
    "    if outfile:\n",
    "        df_out.to_csv(f\"./{outfile}\", index=None)\n",
    "    return df_out, all_feat_to_keep"
   ]
  },
  {
   "cell_type": "code",
   "execution_count": 64,
   "metadata": {},
   "outputs": [
    {
     "name": "stdout",
     "output_type": "stream",
     "text": [
      "Counter({'1': 213, '2': 148})\n",
      "N clusters: 2\n",
      "cluster 1 features: 24\n",
      "cluster 2 features: 62\n",
      "repeat features: 86\n",
      "features to keep: 86\n",
      "    0\n",
      "1    \n",
      "0  24\n",
      "1  62\n"
     ]
    },
    {
     "data": {
      "image/png": "[encoded data removed]",
      "text/plain": [
       "<Figure size 2160x720 with 1 Axes>"
      ]
     },
     "metadata": {
      "needs_background": "light"
     },
     "output_type": "display_data"
    }
   ],
   "source": [
    "#df_top_v1_prb_crc.head()\n",
    "clust_labels = create_clust_labels(\"./ConClust_kmeans_mask/ConClust_kmeans_mask.k=2.consensusClass.csv\", df_top_v1_prb_crc)\n",
    "df_feat_kmean_mask_k2, feat_to_keep = select_features(df_top_v1_prb_crc, clust_labels, \n",
    "                                                      outfile=\"./kmeans_mask_k2_probes.txt\", \n",
    "                                                      prev_feat_to_keep=feat_to_keep,\n",
    "                                                      nseeds=1000)"
   ]
  },
  {
   "cell_type": "code",
   "execution_count": 27,
   "metadata": {},
   "outputs": [
    {
     "name": "stdout",
     "output_type": "stream",
     "text": [
      "Counter({'4': 107, '3': 94, '1': 88, '2': 72})\n",
      "N clusters: 4\n",
      "fix multinomial reporting\n"
     ]
    },
    {
     "name": "stderr",
     "output_type": "stream",
     "text": [
      "/Users/billiegould/Desktop/research/env/lib/python3.7/site-packages/sklearn/linear_model/logistic.py:432: FutureWarning: Default solver will be changed to 'lbfgs' in 0.22. Specify a solver to silence this warning.\n",
      "  FutureWarning)\n",
      "/Users/billiegould/Desktop/research/env/lib/python3.7/site-packages/sklearn/linear_model/logistic.py:469: FutureWarning: Default multi_class will be changed to 'auto' in 0.22. Specify the multi_class option to silence this warning.\n",
      "  \"this warning.\", FutureWarning)\n"
     ]
    }
   ],
   "source": [
    "clust_labels = create_clust_labels(\"./ConClust_kmeans_mask/ConClust_kmeans_mask.k=4.consensusClass.csv\", df_top_v1_prb_crc)\n",
    "df_feat_kmean_mask_k4 = select_features(df_top_v1_prb_crc, clust_labels, outfile=\"./kmeans_mask_k4_probes.txt\")\n"
   ]
  },
  {
   "cell_type": "markdown",
   "metadata": {},
   "source": [
    "# identify v1 panel regions containing selected tcga markers"
   ]
  },
  {
   "cell_type": "code",
   "execution_count": 58,
   "metadata": {},
   "outputs": [
    {
     "name": "stdout",
     "output_type": "stream",
     "text": [
      "[(632108, 632228, 'chr1_632108_632228'), (935143, 935263, 'chr1_935143_935263'), (943939, 944095, 'chr1_943939_944095'), (963412, 963532, 'chr1_963412_963532'), (970916, 971158, 'chr1_970916_971158')]\n"
     ]
    }
   ],
   "source": [
    "# load v1 panel\n",
    "v1_16K_regions = defaultdict(list)\n",
    "with open(\"../methyl_panel_v1_target_twist.bed\", \"r\") as fin:\n",
    "    bed = pd.read_csv(fin, sep=\"\\t\", header=None)\n",
    "    #print(bed.head())\n",
    "    bed = bed.iloc[:,0:3]\n",
    "    bed.columns = ['chrom', 'start', 'stop']\n",
    "    for _, row in bed.iterrows():\n",
    "        reg_name = str(row.chrom) + \"_\"+ str(row.start) + \"_\"+ str(row.stop)\n",
    "        v1_16K_regions[row['chrom']].append((row['start'],row['stop'], reg_name))\n",
    "\n",
    "print(v1_16K_regions[\"chr1\"][0:5])"
   ]
  },
  {
   "cell_type": "code",
   "execution_count": 59,
   "metadata": {},
   "outputs": [
    {
     "name": "stdout",
     "output_type": "stream",
     "text": [
      "[(9652346, 9652712, 'chr1_9652346_9652712'), (12063181, 12063620, 'chr1_12063181_12063620'), (34163174, 34163579, 'chr1_34163174_34163579'), (34930048, 34930228, 'chr1_34930048_34930228')]\n",
      "['chr1_9652346_9652712', 'chr1_12063181_12063620', 'chr1_34163174_34163579', 'chr1_34930048_34930228']\n"
     ]
    }
   ],
   "source": [
    "# load 434 regions bed\n",
    "# 434 Regions selected by early modeling and by lit search\n",
    "from core.gcloud.file import opener\n",
    "modeling_regions = defaultdict(list)\n",
    "modeling_regions_names = []\n",
    "with opener('gs://reference-datafiles/beds/freenome_v1_panel_manual_and_automated_per_region_hmf_definition_20190823.bed', 'r') as handle:\n",
    "    expected_bed = pd.read_csv(handle, sep=\"\\t\", header=None)\n",
    "    expected_bed.columns = ['chrom', 'start', 'stop']\n",
    "    for _, row in expected_bed.iterrows():\n",
    "        reg_name = str(row.chrom) + \"_\"+ str(row.start) + \"_\"+ str(row.stop)\n",
    "        modeling_regions[row['chrom']].append((row['start'],row['stop'], reg_name))\n",
    "        modeling_regions_names.append(reg_name)\n",
    "\n",
    "print(modeling_regions[\"chr1\"][0:4])\n",
    "print(modeling_regions_names[0:4])"
   ]
  },
  {
   "cell_type": "code",
   "execution_count": 60,
   "metadata": {},
   "outputs": [
    {
     "data": {
      "text/html": [
       "<div>\n",
       "<style scoped>\n",
       "    .dataframe tbody tr th:only-of-type {\n",
       "        vertical-align: middle;\n",
       "    }\n",
       "\n",
       "    .dataframe tbody tr th {\n",
       "        vertical-align: top;\n",
       "    }\n",
       "\n",
       "    .dataframe thead th {\n",
       "        text-align: right;\n",
       "    }\n",
       "</style>\n",
       "<table border=\"1\" class=\"dataframe\">\n",
       "  <thead>\n",
       "    <tr style=\"text-align: right;\">\n",
       "      <th></th>\n",
       "      <th>Chromosome</th>\n",
       "      <th>Start</th>\n",
       "      <th>End</th>\n",
       "      <th>Gene_Symbol</th>\n",
       "      <th>Gene_Type</th>\n",
       "      <th>Transcript_ID</th>\n",
       "      <th>Position_to_TSS</th>\n",
       "      <th>CGI_Coordinate</th>\n",
       "      <th>Feature_Type</th>\n",
       "      <th>in_v1_panel</th>\n",
       "      <th>in_v3_panel</th>\n",
       "      <th>v1_panel_region</th>\n",
       "      <th>v1_region</th>\n",
       "    </tr>\n",
       "    <tr>\n",
       "      <th>Composite Element REF</th>\n",
       "      <th></th>\n",
       "      <th></th>\n",
       "      <th></th>\n",
       "      <th></th>\n",
       "      <th></th>\n",
       "      <th></th>\n",
       "      <th></th>\n",
       "      <th></th>\n",
       "      <th></th>\n",
       "      <th></th>\n",
       "      <th></th>\n",
       "      <th></th>\n",
       "      <th></th>\n",
       "    </tr>\n",
       "  </thead>\n",
       "  <tbody>\n",
       "    <tr>\n",
       "      <th>cg00000029</th>\n",
       "      <td>chr16</td>\n",
       "      <td>53434200</td>\n",
       "      <td>53434201</td>\n",
       "      <td>RBL2;RBL2;RBL2</td>\n",
       "      <td>protein_coding;protein_coding;protein_coding</td>\n",
       "      <td>ENST00000262133.9;ENST00000544405.5;ENST000005...</td>\n",
       "      <td>-221;-1420;222</td>\n",
       "      <td>CGI:chr16:53434489-53435297</td>\n",
       "      <td>N_Shore</td>\n",
       "      <td>False</td>\n",
       "      <td>False</td>\n",
       "      <td>NA</td>\n",
       "      <td>NA</td>\n",
       "    </tr>\n",
       "    <tr>\n",
       "      <th>cg00000108</th>\n",
       "      <td>chr3</td>\n",
       "      <td>37417715</td>\n",
       "      <td>37417716</td>\n",
       "      <td>C3orf35;C3orf35;C3orf35;C3orf35;C3orf35;C3orf3...</td>\n",
       "      <td>lincRNA;lincRNA;lincRNA;lincRNA;lincRNA;lincRN...</td>\n",
       "      <td>ENST00000328376.8;ENST00000332506.6;ENST000004...</td>\n",
       "      <td>18552;18552;6505;31445;18143;447;18552;18552</td>\n",
       "      <td>CGI:chr3:37451927-37453047</td>\n",
       "      <td>.</td>\n",
       "      <td>False</td>\n",
       "      <td>False</td>\n",
       "      <td>NA</td>\n",
       "      <td>NA</td>\n",
       "    </tr>\n",
       "    <tr>\n",
       "      <th>cg00000109</th>\n",
       "      <td>chr3</td>\n",
       "      <td>172198247</td>\n",
       "      <td>172198248</td>\n",
       "      <td>FNDC3B;FNDC3B;FNDC3B;FNDC3B;FNDC3B;FNDC3B</td>\n",
       "      <td>protein_coding;protein_coding;protein_coding;p...</td>\n",
       "      <td>ENST00000336824.7;ENST00000415807.5;ENST000004...</td>\n",
       "      <td>157692;158618;151333;71272;158587;71273</td>\n",
       "      <td>CGI:chr3:172039703-172040934</td>\n",
       "      <td>.</td>\n",
       "      <td>False</td>\n",
       "      <td>False</td>\n",
       "      <td>NA</td>\n",
       "      <td>NA</td>\n",
       "    </tr>\n",
       "    <tr>\n",
       "      <th>cg00000165</th>\n",
       "      <td>chr1</td>\n",
       "      <td>90729117</td>\n",
       "      <td>90729118</td>\n",
       "      <td>.</td>\n",
       "      <td>.</td>\n",
       "      <td>.</td>\n",
       "      <td>.</td>\n",
       "      <td>CGI:chr1:90724932-90727247</td>\n",
       "      <td>S_Shore</td>\n",
       "      <td>False</td>\n",
       "      <td>False</td>\n",
       "      <td>NA</td>\n",
       "      <td>NA</td>\n",
       "    </tr>\n",
       "    <tr>\n",
       "      <th>cg00000236</th>\n",
       "      <td>chr8</td>\n",
       "      <td>42405776</td>\n",
       "      <td>42405777</td>\n",
       "      <td>VDAC3</td>\n",
       "      <td>protein_coding</td>\n",
       "      <td>ENST00000022615.7</td>\n",
       "      <td>13872</td>\n",
       "      <td>CGI:chr8:42410918-42411241</td>\n",
       "      <td>.</td>\n",
       "      <td>False</td>\n",
       "      <td>False</td>\n",
       "      <td>NA</td>\n",
       "      <td>NA</td>\n",
       "    </tr>\n",
       "  </tbody>\n",
       "</table>\n",
       "</div>"
      ],
      "text/plain": [
       "                      Chromosome      Start        End  \\\n",
       "Composite Element REF                                    \n",
       "cg00000029                 chr16   53434200   53434201   \n",
       "cg00000108                  chr3   37417715   37417716   \n",
       "cg00000109                  chr3  172198247  172198248   \n",
       "cg00000165                  chr1   90729117   90729118   \n",
       "cg00000236                  chr8   42405776   42405777   \n",
       "\n",
       "                                                             Gene_Symbol  \\\n",
       "Composite Element REF                                                      \n",
       "cg00000029                                                RBL2;RBL2;RBL2   \n",
       "cg00000108             C3orf35;C3orf35;C3orf35;C3orf35;C3orf35;C3orf3...   \n",
       "cg00000109                     FNDC3B;FNDC3B;FNDC3B;FNDC3B;FNDC3B;FNDC3B   \n",
       "cg00000165                                                             .   \n",
       "cg00000236                                                         VDAC3   \n",
       "\n",
       "                                                               Gene_Type  \\\n",
       "Composite Element REF                                                      \n",
       "cg00000029                  protein_coding;protein_coding;protein_coding   \n",
       "cg00000108             lincRNA;lincRNA;lincRNA;lincRNA;lincRNA;lincRN...   \n",
       "cg00000109             protein_coding;protein_coding;protein_coding;p...   \n",
       "cg00000165                                                             .   \n",
       "cg00000236                                                protein_coding   \n",
       "\n",
       "                                                           Transcript_ID  \\\n",
       "Composite Element REF                                                      \n",
       "cg00000029             ENST00000262133.9;ENST00000544405.5;ENST000005...   \n",
       "cg00000108             ENST00000328376.8;ENST00000332506.6;ENST000004...   \n",
       "cg00000109             ENST00000336824.7;ENST00000415807.5;ENST000004...   \n",
       "cg00000165                                                             .   \n",
       "cg00000236                                             ENST00000022615.7   \n",
       "\n",
       "                                                    Position_to_TSS  \\\n",
       "Composite Element REF                                                 \n",
       "cg00000029                                           -221;-1420;222   \n",
       "cg00000108             18552;18552;6505;31445;18143;447;18552;18552   \n",
       "cg00000109                  157692;158618;151333;71272;158587;71273   \n",
       "cg00000165                                                        .   \n",
       "cg00000236                                                    13872   \n",
       "\n",
       "                                     CGI_Coordinate Feature_Type  in_v1_panel  \\\n",
       "Composite Element REF                                                           \n",
       "cg00000029              CGI:chr16:53434489-53435297      N_Shore        False   \n",
       "cg00000108               CGI:chr3:37451927-37453047            .        False   \n",
       "cg00000109             CGI:chr3:172039703-172040934            .        False   \n",
       "cg00000165               CGI:chr1:90724932-90727247      S_Shore        False   \n",
       "cg00000236               CGI:chr8:42410918-42411241            .        False   \n",
       "\n",
       "                       in_v3_panel v1_panel_region v1_region  \n",
       "Composite Element REF                                         \n",
       "cg00000029                   False              NA        NA  \n",
       "cg00000108                   False              NA        NA  \n",
       "cg00000109                   False              NA        NA  \n",
       "cg00000165                   False              NA        NA  \n",
       "cg00000236                   False              NA        NA  "
      ]
     },
     "execution_count": 60,
     "metadata": {},
     "output_type": "execute_result"
    }
   ],
   "source": [
    "# load tcga probe metadata\n",
    "df_probe_metadata = pickle.load(open(\"./df_keep_probes_metadata.pkl\", \"rb\"))\n",
    "df_probe_metadata.head()"
   ]
  },
  {
   "cell_type": "code",
   "execution_count": 65,
   "metadata": {},
   "outputs": [
    {
     "name": "stdout",
     "output_type": "stream",
     "text": [
      "       marker  cluster\n",
      "0  cg03616722        0\n",
      "1  cg06509223        0\n",
      "2  cg24506221        0\n",
      "3  cg20553577        0\n",
      "4  cg16814680        0\n",
      "['cg03616722', 'cg06509223', 'cg24506221', 'cg20553577', 'cg16814680', 'cg02293936', 'cg06266993', 'cg23564700', 'cg01873886', 'cg02246055', 'cg16570157', 'cg17736443', 'cg02159489', 'cg22681934', 'cg08154437', 'cg08248516', 'cg24008544', 'cg23332582', 'cg14159026', 'cg03483654', 'cg14255824', 'cg01939274', 'cg26522157', 'cg17603288', 'cg24371075', 'cg25830696', 'cg27438798', 'cg15825786', 'cg13021333', 'cg18745566', 'cg02907374', 'cg06368118', 'cg14081924', 'cg18136062', 'cg18800085', 'cg17038667', 'cg20893717', 'cg15454726', 'cg04100696', 'cg00366818', 'cg10748160', 'cg04689080', 'cg16485558', 'cg25373100', 'cg16882226', 'cg12376068', 'cg11514698', 'cg06466031', 'cg22761670', 'cg11964564', 'cg08042975', 'cg20115218', 'cg05817517', 'cg21309100', 'cg24933645', 'cg05099909', 'cg11258164', 'cg05293775', 'cg17512364', 'cg13643796', 'cg10957242', 'cg25324047', 'cg20895877', 'cg18875716', 'cg23448584', 'cg04970352', 'cg22149516', 'cg26525127', 'cg07134065', 'cg21952901', 'cg09350341', 'cg08661899', 'cg13640626', 'cg25457956', 'cg25925764', 'cg20478129', 'cg07551545', 'cg15355118', 'cg12307787', 'cg21662160', 'cg25428398', 'cg19540689', 'cg25561581', 'cg26394244', 'cg09508531', 'cg09279240']\n"
     ]
    }
   ],
   "source": [
    "# load tcga marker list and metadata\n",
    "#tcga_marker_list = []\n",
    "#with open(\"./kmeans_mask_k2_probes.txt\", \"r\") as fin:\n",
    "#    for line in fin.readlines():\n",
    "#        tcga_marker_list.append(line.strip())\n",
    "\n",
    "df_feat_kmean_mask_k2 = pd.read_csv(open(\"./kmeans_mask_k2_probes.txt\", \"r\"))\n",
    "print(df_feat_kmean_mask_k2.head())\n",
    "tcga_marker_list = list(df_feat_kmean_mask_k2.iloc[:,0])"
   ]
  },
  {
   "cell_type": "code",
   "execution_count": 84,
   "metadata": {},
   "outputs": [
    {
     "name": "stdout",
     "output_type": "stream",
     "text": [
      "n_probes: 86\n",
      "    chrm     start       end  cluster                     name\n",
      "5  chr17  48593145  48593993        0  chr17:48593145-48593993\n",
      "6  chr17  48593145  48593993        0  chr17:48593145-48593993\n",
      "\n",
      "\n",
      "    chrm     start       end  cluster                    name\n",
      "76  chr2  31233763  31234264        1  chr2:31233763-31234264\n",
      "79  chr2  31233763  31234264        1  chr2:31233763-31234264\n",
      "\n",
      "\n",
      "    chrm      start        end  cluster                      name\n",
      "70  chr6  132400991  132401785        1  chr6:132400991-132401785\n",
      "71  chr6  132400991  132401785        1  chr6:132400991-132401785\n",
      "\n",
      "\n",
      "regions: 85\n",
      "regions minus dups: 82\n",
      "n missing: 1\n"
     ]
    }
   ],
   "source": [
    "# get regions containing tcga probes of interest\n",
    "print(f\"n_probes: {len(tcga_marker_list)}\")\n",
    "regions_of_interest = []\n",
    "n_missing = 0\n",
    "for prb, cluster in zip(tcga_marker_list, df_feat_kmean_mask_k2[\"cluster\"]):\n",
    "    pos = df_probe_metadata.loc[prb,\"Start\"]\n",
    "    chrm = df_probe_metadata.loc[prb,\"Chromosome\"]\n",
    "    found = False\n",
    "    # if the probe is in a region in the 434 set, use that region\n",
    "    for reg434 in modeling_regions[chrm]:\n",
    "        if reg434[0] < pos-1 < reg434[1]:\n",
    "            regions_of_interest.append([chrm, reg434[0], reg434[1], cluster])\n",
    "            found = True\n",
    "            break\n",
    "    # else look for probe in 16K regions:\n",
    "    if not found:\n",
    "        for reg in v1_16K_regions[chrm]:\n",
    "            # regstart < pos < regend\n",
    "            if reg[0] < pos-1 < reg[1]:\n",
    "                regions_of_interest.append([chrm, reg[0], reg[1], cluster])\n",
    "                found = True\n",
    "                break\n",
    "    # else missing\n",
    "    if not found:\n",
    "        n_missing += 1\n",
    "\n",
    "df_regions_of_interest = pd.DataFrame(regions_of_interest)\n",
    "df_regions_of_interest.columns = [\"chrm\",\"start\",\"end\",\"cluster\"]\n",
    "df_regions_of_interest[\"name\"] = df_regions_of_interest[\"chrm\"] + \":\" + df_regions_of_interest[\"start\"].apply(str) + \"-\" + df_regions_of_interest[\"end\"].apply(str)\n",
    "\n",
    "#check for regions assigned to more than one cluster\n",
    "for i, df in df_regions_of_interest.groupby(\"name\"): \n",
    "    if len(df) > 1: \n",
    "        print(df)\n",
    "        print(\"\\n\")\n",
    "        \n",
    "print(f\"regions: {len(df_regions_of_interest)}\")\n",
    "df_regions_of_interest = df_regions_of_interest.drop_duplicates()\n",
    "print(f\"regions minus dups: {len(df_regions_of_interest)}\")\n",
    "print(f\"n missing: {n_missing}\")\n"
   ]
  },
  {
   "cell_type": "code",
   "execution_count": 87,
   "metadata": {},
   "outputs": [],
   "source": [
    "# create bed file for regions of interest\n",
    "def make_bed_and_metadata(df_regions, out_pfx:str):\n",
    "    list_of_region_dicts = []\n",
    "    for i, row in df_regions.iterrows():\n",
    "        chrm, start, stop, cluster = row[0], row[1], row[2], row[3]\n",
    "        #chrm, start, stop, genes = region\n",
    "        list_of_region_dicts.append( {\"chrm\":chrm,\n",
    "                                      \"start\":start,\n",
    "                                      \"stop\":stop,\n",
    "                                      \"cluster\":cluster})\n",
    "                                      #\"genes\":genes})\n",
    "\n",
    "    thresh_dicts = [{f\"thresh{n}\": n} for n in range(3,34)]    \n",
    "    calc_dicts = [ {\"col1\":\"total_frags\"}, {\"col2\":\"methyl_frags\"}]\n",
    "\n",
    "    np.savez_compressed(f'./{out_pfx}_col_metadata.npz', np.array(list_of_region_dicts), np.array(thresh_dicts), np.array(calc_dicts))\n",
    "\n",
    "    # write bed file\n",
    "    #df_regions = pd.DataFrame(list_of_region_dicts)\n",
    "    #print(df_regions.head())\n",
    "    df_regions.to_csv(f\"./{out_pfx}.bed\", sep=\"\\t\", header=None, index=None)\n",
    "\n",
    "    "
   ]
  },
  {
   "cell_type": "code",
   "execution_count": 88,
   "metadata": {},
   "outputs": [],
   "source": [
    "# create feature metadata for regions of interest\n",
    "make_bed_and_metadata(df_regions_of_interest, \"tcga_k2_clust_regions_v2\")\n",
    "\n",
    "# gsutil cp tcga_k2_clust_regions.bed gs://reference-datafiles/beds/"
   ]
  },
  {
   "cell_type": "code",
   "execution_count": 176,
   "metadata": {},
   "outputs": [
    {
     "name": "stdout",
     "output_type": "stream",
     "text": [
      "        0          1          2\n",
      "0   chr13   22848547   22848667\n",
      "1    chr1  109687545  109688046\n",
      "2   chr13  110475647  110475815\n",
      "3   chr17   43953039   43953159\n",
      "4    chr4   13544188   13544834\n",
      "..    ...        ...        ...\n",
      "76   chr5   14405578   14405698\n",
      "77   chr5   83471345   83472266\n",
      "78  chr22   45009678   45010281\n",
      "79   chr5  123088304  123088424\n",
      "80   chr2  179861032  179861756\n",
      "\n",
      "[78 rows x 3 columns]\n"
     ]
    }
   ],
   "source": [
    "# create feature using summarizer\n",
    "'''\n",
    "ftio create feature\n",
    "name: hmfc_tcga_cluster_regions_k2\n",
    "numpy_dtype: int64\n",
    "shape: (78,31,2,)\n",
    "column_metadata: /Users/billiegould/Desktop/my_repo/startup/TCGA_COAD_READ/tcga_k2_clust_regions_col_metadata.npz\n",
    "\n",
    "ftio update feature\n",
    "name: hmfc_tcga_cluster_regions_k2\n",
    "version: 2\n",
    "numpy_dtype: int64\n",
    "shape: (85,31,2,)\n",
    "column_metadata: /Users/billiegould/Desktop/my_repo/startup/TCGA_COAD_READ/tcga_k2_clust_regions_v2_col_metadata.npz\n",
    "\n",
    "source ./create_tcga_hmfc_k2.sh\n"
   ]
  },
  {
   "cell_type": "markdown",
   "metadata": {},
   "source": [
    "# methyl cluster aware model"
   ]
  },
  {
   "cell_type": "code",
   "execution_count": 189,
   "metadata": {},
   "outputs": [
    {
     "ename": "ModuleNotFoundError",
     "evalue": "No module named 'pineapple'",
     "output_type": "error",
     "traceback": [
      "\u001b[0;31m---------------------------------------------------------------------------\u001b[0m",
      "\u001b[0;31mModuleNotFoundError\u001b[0m                       Traceback (most recent call last)",
      "\u001b[0;32m<ipython-input-189-f6856c1bfecf>\u001b[0m in \u001b[0;36m<module>\u001b[0;34m()\u001b[0m\n\u001b[1;32m      6\u001b[0m \u001b[0;31m# https://github.com/freenome/pineapple/blob/master/pineapple/contrib/components/transformers/methyl/poisson_outlier.py\u001b[0m\u001b[0;34m\u001b[0m\u001b[0;34m\u001b[0m\u001b[0;34m\u001b[0m\u001b[0m\n\u001b[1;32m      7\u001b[0m \u001b[0;34m\u001b[0m\u001b[0m\n\u001b[0;32m----> 8\u001b[0;31m \u001b[0;32mfrom\u001b[0m \u001b[0mpineapple\u001b[0m\u001b[0;34m.\u001b[0m\u001b[0mcontrib\u001b[0m\u001b[0;34m.\u001b[0m\u001b[0mcomponents\u001b[0m\u001b[0;34m.\u001b[0m\u001b[0mdata_factories\u001b[0m\u001b[0;34m.\u001b[0m\u001b[0mmatrix_factory\u001b[0m \u001b[0;32mimport\u001b[0m \u001b[0mMatrixFactory\u001b[0m\u001b[0;34m\u001b[0m\u001b[0;34m\u001b[0m\u001b[0m\n\u001b[0m",
      "\u001b[0;31mModuleNotFoundError\u001b[0m: No module named 'pineapple'"
     ]
    }
   ],
   "source": [
    "# import the hmfc model\n",
    "# an example of a pineapple experiment running the methyl model:\n",
    "# https://github.com/freenome/pineapple/blob/master/pineapple/experiments/dc1/methyl/methyl_poisson_spec_rrbs_mask.yaml\n",
    "\n",
    "# transformers used to run the hmfc model\n",
    "# https://github.com/freenome/pineapple/blob/master/pineapple/contrib/components/transformers/methyl/poisson_outlier.py\n",
    "\n",
    "# how to use matrixfactory in pineapple\n",
    "# https://github.com/freenome/research/blob/master/docs/data_access_tutorial.ipynb\n",
    "\n",
    "# from here fly to Jupyter Hub !!! . . . . ."
   ]
  }
 ],
 "metadata": {
  "kernelspec": {
   "display_name": "Python 3",
   "language": "python",
   "name": "python3"
  },
  "language_info": {
   "codemirror_mode": {
    "name": "ipython",
    "version": 3
   },
   "file_extension": ".py",
   "mimetype": "text/x-python",
   "name": "python",
   "nbconvert_exporter": "python",
   "pygments_lexer": "ipython3",
   "version": "3.7.4"
  }
 },
 "nbformat": 4,
 "nbformat_minor": 4
}
