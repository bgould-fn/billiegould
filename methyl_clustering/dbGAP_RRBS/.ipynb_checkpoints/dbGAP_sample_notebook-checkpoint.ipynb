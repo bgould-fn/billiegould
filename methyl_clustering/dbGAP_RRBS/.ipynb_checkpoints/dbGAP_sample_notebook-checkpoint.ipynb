{
 "cells": [
  {
   "cell_type": "markdown",
   "metadata": {},
   "source": [
    "# Clustering of RRBS dbGAP samples using methyl patterns \n",
    "- project outline: https://docs.google.com/document/d/1hsyLTGaHnGBZ05k8wbxclB_IGmjg2bnZzX1u963cgdc/edit?usp=sharing\n",
    "- data paper: Druliner et al https://www.ncbi.nlm.nih.gov/pmc/articles/PMC5816667/\n",
    "- metanalysis of hypomethylation in PBL: Woo and Kim et al.\n",
    "    - global hypomethylation of PBL is associated with risk of CRC and other cancers\n",
    "\n",
    "Tissue types:\n",
    "- CRC_tissue - cancer tissue\n",
    "- AA_CAP - adenoma tissue adjacent to cancerous tissue\n",
    "- AA_CFP - adenoma tissue from a person with no cancerous tissue\n",
    "- Normal_Colon_Tissue - normal epithelium from a person with or without cancer\n",
    "- PBL_CAP - wbc's from a person with cancer\n",
    "- PBL_CFP - wbc's from a person with no cancer\n",
    "\n",
    "1) Do tissue sample types cluster by methyl pattern? Can this signal be translated to cfDNA in blood?\n",
    "    --GO enrichment analysis\n",
    "\n",
    "2) Can PBL_CFP vs. PBL_CAP (AA vs NAA) be classified using methyl data?\n",
    "    -- do predictive genes constitute an immune signal in blood?\n",
    "    -- can this signal be used to find a more informative set of regions to use for prediction?"
   ]
  },
  {
   "cell_type": "code",
   "execution_count": 3,
   "metadata": {},
   "outputs": [
    {
     "name": "stderr",
     "output_type": "stream",
     "text": [
      "/Users/billiegould/Desktop/research/env/lib/python3.7/site-packages/google/auth/_default.py:69: UserWarning: Your application has authenticated using end user credentials from Google Cloud SDK. We recommend that most server applications use service accounts instead. If your application continues to use end user credentials from Cloud SDK, you might receive a \"quota exceeded\" or \"API not enabled\" error. For more information about service accounts, see https://cloud.google.com/docs/authentication/\n",
      "  warnings.warn(_CLOUD_SDK_CREDENTIALS_WARNING)\n",
      "/Users/billiegould/Desktop/research/configs/keys.py:8: YAMLLoadWarning: calling yaml.load() without Loader=... is deprecated, as the default Loader is unsafe. Please read https://msg.pyyaml.org/load for full details.\n",
      "  keys = yaml.load(download_blob(BUCKET, 'keys.yaml', as_bytes=True))\n"
     ]
    }
   ],
   "source": [
    "%reload_ext autoreload\n",
    "#Reload all modules before each code run\n",
    "%autoreload 2\n",
    "\n",
    "from core.data_access.matrix_factory import MatrixFactory as mf\n",
    "import numpy as np\n",
    "import matplotlib\n",
    "%matplotlib inline\n",
    "from matplotlib import pyplot as plt\n",
    "from collections import Counter, defaultdict\n",
    "import seaborn as sns\n",
    "import pandas as pd\n",
    "\n",
    "from sklearn.cluster import AgglomerativeClustering, KMeans\n",
    "from sklearn import metrics"
   ]
  },
  {
   "cell_type": "code",
   "execution_count": null,
   "metadata": {},
   "outputs": [],
   "source": [
    "# Load dbGAP data for 16K regions\n",
    "\n",
    "# class format = (database_class_name, numeric_label_to_give_class, opt_custum_transform_function)\n",
    "classes = [('colorectal_cancer_tissuerrbs_dbgap', 5),\n",
    "           ('colorectal_canceradjacentpolyp_tissuerrbs_dbgap_v2', 4),\n",
    "           ('colorectal_cancerfreepolyp_tissuerrbs_dbgap', 3),\n",
    "           ('colorectal_healthy_tissuerrbs_dbgap_v2', 2),\n",
    "           ('peripheralbloodleukocytes_canceradjacentpolyp_tissuerrbs_dbgap', 1),\n",
    "           ('peripheralbloodleukocytes_cancerfreepolyp_tissuerrbs_dbgap', 0)]\n",
    "\n",
    "mat_16K_rrbs = mf.create(classes=classes,feature='hmfc_cgisland_maybe_clean_rrbs_v1', skip_cache=True)\n",
    "\n",
    "print(mat_16K_rrbs.x.shape)\n",
    "\n",
    "# data dimensions are\n",
    "    # 85 - samples (from 31 patients)\n",
    "    # 16786 - regions\n",
    "    # 31 - methylation num CpG calling thresholds 3-33\n",
    "    # 2 - total read counts, total methyl read counts\n",
    "\n"
   ]
  },
  {
   "cell_type": "code",
   "execution_count": 5,
   "metadata": {},
   "outputs": [],
   "source": [
    "label_to_name = {\n",
    "    5:'CRC_tissue',\n",
    "    4:'AA_CAP',\n",
    "    3:'AA_CFP',\n",
    "    2:'Normal_Colon_Tissue', \n",
    "    1:'PBL_CAP',\n",
    "    0:'PBL_CFP',\n",
    "}\n",
    "#name_to_label = {v:k for k,v in label_to_name.items()}\n",
    "\n",
    "# count how many samples of each type (class) in the data set\n",
    "#print(Counter(mat_16K_rrbs.get_labels()))\n",
    "\n",
    "#mat16K_classes = [ label_to_name[cls] for cls in mat_16K_rrbs.get_labels()]"
   ]
  },
  {
   "cell_type": "code",
   "execution_count": 6,
   "metadata": {},
   "outputs": [],
   "source": [
    "# subset data, remove markers with < 5 fragments, return %meth per region at 3CPG threshold\n",
    "def process_data(mat, classes, NREADS=5):\n",
    "    print(f\"Input regions: {mat.x.shape[1]}\")\n",
    "    \n",
    "    #subset by CPG theshold\n",
    "    mat_3 = mat.x[...,0,:]\n",
    "    \n",
    "    # subset by sample type\n",
    "    samples = [ label_to_name[lbl] in classes for lbl in mat.get_labels()]\n",
    "    mat_3 = mat_3[samples,...]\n",
    "    labels = np.array([label_to_name[lbl] for lbl in mat.get_labels()])[samples]\n",
    "    #print(mat_3.shape)\n",
    "    \n",
    "    #remove regions with <5 reads in any sample\n",
    "    total_counts = mat_3[...,1]\n",
    "    #print(total_counts.shape)\n",
    "    regions_to_keep = []\n",
    "    for col in range(total_counts.shape[1]):\n",
    "        if not any(total_counts[:,col] <= NREADS):\n",
    "            regions_to_keep.append(col)\n",
    "    print(f\"Keeping {len(regions_to_keep)} regions\")\n",
    "    mat_3_filt = mat_3[:,regions_to_keep,:]\n",
    "    col_meta_sel_reg = mat.get_column_metadata()[regions_to_keep]\n",
    "    \n",
    "    df_pct_meth = pd.DataFrame(mat_3_filt[:,:,0] / mat_3_filt[:,:,1])\n",
    "    \n",
    "    return df_pct_meth, labels, col_meta_sel_reg\n",
    "    "
   ]
  },
  {
   "cell_type": "code",
   "execution_count": 15,
   "metadata": {},
   "outputs": [],
   "source": [
    "# K-means clustering\n",
    "def test_opt_num_clust_kmeans(df, labels, sample_metadata, K, subset=None, fig_pfx=None):\n",
    "    assert K, \"specify optimal number of clusters\"\n",
    "    if subset:\n",
    "        print(\"Subsetting data . . .\")\n",
    "        df = df.loc[subset,:]\n",
    "        print(df.shape)\n",
    "        labels = np.array(labels)[subset]\n",
    "        sample_metadata = sample_metadata[subset]\n",
    "    \n",
    "    print(df.shape)\n",
    "    assert df.shape[0] == len(labels)\n",
    "    assert pd.DataFrame(df).isnull().sum().sum() == 0, \"NAs present\"\n",
    "    \n",
    "    k_vals = [1,2,3,4,5,6,8,10,12,14,16]\n",
    "    scores = []\n",
    "    for k in k_vals:\n",
    "        clust = KMeans(n_clusters=k, random_state=0)\n",
    "        clust.fit(df)\n",
    "        #score = np.mean(metrics.silhouette_score(mat, clust.labels_))\n",
    "        score = clust.inertia_  # this is the total within cluster summs of squares at k=k\n",
    "        scores.append(score)\n",
    "        #print(f\"groups {k} : {round(score, 3)}\")\n",
    "    plt.figure()\n",
    "    plt.scatter(k_vals, scores, lw=2)\n",
    "    plt.plot(k_vals, scores, lw=2)\n",
    "    plt.xlim((0,max(k_vals)+0.5))\n",
    "    plt.hlines(scores[K-1],linestyles='dashed', xmin=0, xmax=max(k_vals)+1)\n",
    "    plt.title(\"total within-cluster variation\")\n",
    "    plt.xlabel(\"number of clusters\")\n",
    "    plt.ylabel(\"total sums of squares\")\n",
    "    if fig_pfx:\n",
    "        plt.savefig(f\"./{fig_pfx}_scores.png\")\n",
    "    \n",
    "    # make heatmap labeled by clusters at k=3\n",
    "    plt.figure()\n",
    "\n",
    "    #color rows by label\n",
    "    cols = sns.color_palette(\"Paired\")\n",
    "    d_row_colors = {\"Normal_Colon_Tissue\": cols[0], \"CRC_tissue\":cols[4]}\n",
    "    label_colors = [d_row_colors[lab] for lab in labels]\n",
    "    label_colors = pd.Series(label_colors, index=df.index)\n",
    "\n",
    "    # color rows by cluster membership\n",
    "    cols = sns.color_palette(\"Set2\")\n",
    "    clust = KMeans(n_clusters=K, random_state=0)\n",
    "    clust.fit(df)\n",
    "    clust_colors = pd.Series([cols[c] for c in clust.labels_], index=df.index)\n",
    "    \n",
    "    # color rows by age\n",
    "    #cmap = plt.cm.Greens\n",
    "    #ages = [d[\"patient\"][\"age\"] for d in sample_metadata]\n",
    "    #norm = matplotlib.colors.Normalize(vmin=min(ages), vmax=max(ages), clip=True)\n",
    "    #mapper = matplotlib.cm.ScalarMappable(norm=norm, cmap=cmap)\n",
    "    #age_colors = pd.Series(list(mapper.to_rgba(ages)), index=mat.index)  # FIX BUG HERE\n",
    "    \n",
    "    #sort dfvrows by cluster membership\n",
    "    clust_lab_sorted = pd.Series(clust.labels_, index=df.index).sort_values()\n",
    "    df_row_sort = df.reindex(clust_lab_sorted.index, axis=0)\n",
    "    \n",
    "    #sort row color labels by cluster membership\n",
    "    label_colors = label_colors.reindex(clust_lab_sorted.index)\n",
    "    clust_colors = clust_colors.reindex(clust_lab_sorted.index)\n",
    "    #age_colors = age_colors.reindex(clust_lab_sorted.index)\n",
    "    \n",
    "    #sort df cols from low to high\n",
    "    #marker_sums = mat.apply(np.sum, axis=0)\n",
    "    #mat_col_sort = mat_row_sort.reindex(marker_sums.sort_values().index, axis=1)\n",
    "\n",
    "    #sns.heatmap(mat_col_sort, yticklabels=False, xticklabels=False)\n",
    "    if df_row_sort.shape[1]<1000:\n",
    "        cg = sns.clustermap(df_row_sort, \n",
    "                            row_cluster=False, #col_cluster=False,\n",
    "                            row_colors=[label_colors, \n",
    "                                        clust_colors],\n",
    "                            yticklabels=False, \n",
    "                            xticklabels=False,\n",
    "                            figsize=(20,20))\n",
    "        cg.ax_col_dendrogram.set_visible(False) # remove col dendrogram\n",
    "        if fig_pfx:\n",
    "            plt.savefig(f\"./{fig_pfx}_heatmap.png\")\n",
    "    else:\n",
    "        print(\"Too many regions for making a heatmap\")"
   ]
  },
  {
   "cell_type": "code",
   "execution_count": 8,
   "metadata": {},
   "outputs": [
    {
     "name": "stdout",
     "output_type": "stream",
     "text": [
      "Input regions: 16786\n",
      "Keeping 14449 regions\n",
      "(29, 14449)\n"
     ]
    }
   ],
   "source": [
    "df_crc_healthy_16K_pct_meth, df_crc_healthy_16K_labels, df_crc_healthy_16K_col_metadata = process_data(mat_16K_rrbs, classes=[\"CRC_tissue\",\"Normal_Colon_Tissue\"])\n",
    "print(df_crc_healthy_16K_pct_meth.shape)"
   ]
  },
  {
   "cell_type": "code",
   "execution_count": 16,
   "metadata": {},
   "outputs": [
    {
     "name": "stdout",
     "output_type": "stream",
     "text": [
      "(29, 14449)\n",
      "Too many regions for making a heatmap\n"
     ]
    },
    {
     "data": {
      "image/png": "[encoded data removed]",
      "text/plain": [
       "<Figure size 432x288 with 1 Axes>"
      ]
     },
     "metadata": {
      "needs_background": "light"
     },
     "output_type": "display_data"
    },
    {
     "data": {
      "text/plain": [
       "<Figure size 432x288 with 0 Axes>"
      ]
     },
     "metadata": {},
     "output_type": "display_data"
    }
   ],
   "source": [
    "test_opt_num_clust_kmeans(df_crc_healthy_16K_pct_meth, df_crc_healthy_16K_labels, sample_metadata=None, K=2, subset=None, fig_pfx=\"dbgap_kmeans_14K_reg\")"
   ]
  },
  {
   "cell_type": "code",
   "execution_count": 6,
   "metadata": {},
   "outputs": [],
   "source": [
    "# Read in v1 and v3 capture panel beds\n",
    "\n",
    "from collections import defaultdict\n",
    "from intervaltree import IntervalTree\n",
    "from core.gcloud.file import opener\n",
    "\n",
    "# create an empty chrom dict of intervals and fill in with freenome_v1_panel regions annotated as \"True\"\n",
    "\n",
    "v1_regions = defaultdict(list) # not really the v1 regions, a subset of them\n",
    "\n",
    "v3_regions = defaultdict(list)\n",
    "\n",
    "# 434 Regions selected by early modeling\n",
    "with opener('gs://reference-datafiles/beds/freenome_v1_panel_manual_and_automated_per_region_hmf_definition_20190823.bed', 'r') as handle:\n",
    "    expected_bed = pd.read_csv(handle, sep=\"\\t\", header=None)\n",
    "    expected_bed.columns = ['chrom', 'start', 'stop']\n",
    "    for _, row in expected_bed.iterrows():\n",
    "        reg_name = str(row.chrom) + \"_\"+ str(row.start) + \"_\"+ str(row.stop)\n",
    "        v1_regions[row['chrom']].append((row['start'],row['stop'], reg_name))\n",
    "\n",
    "#print(expected_regions)        \n",
    "# structure:\n",
    "    # defaultdict{'chr1':IntervalTree([Interval(start, end, True), Interval(start, end, True) . . .  ])}\n",
    "\n",
    "# 3200 Regions selected as high CpG for v3 enriched capture panel\n",
    "# create an empty chrom dict of intervals and fill in with freenome_v3_panel regions annotated as \"True\"\n",
    "with opener('gs://reference-datafiles/panel_v3/v3_panel_repeat_and_cpg_filtered.bed', 'r') as handle:\n",
    "    v3_bed = pd.read_csv(handle, sep=\"\\t\", header=None, comment=\"#\").iloc[:, :3]\n",
    "    v3_bed.columns = ['chrom', 'start', 'stop']\n",
    "    for _, row in v3_bed.iterrows():\n",
    "        reg_name = \"X\"\n",
    "        v3_regions[row['chrom']].append((row['start'],row['stop'], reg_name))"
   ]
  },
  {
   "cell_type": "code",
   "execution_count": 14,
   "metadata": {},
   "outputs": [],
   "source": [
    "# a function to return the data matrix of region counts using the lowest calling threshold and noise floor\n",
    "# to call fragments\n",
    "\n",
    "def return_best_counts(mat, \n",
    "                       case_classes: list, \n",
    "                       control_classes:list):\n",
    "    \n",
    "    \"\"\"\n",
    "    Use John's functions to return the methyl counts/total counts ratio data for \n",
    "    samples from a set of case classes and control classes. Extracts the counts for only regions\n",
    "    that have a signal above the noise floor (calculated using a beta-binomial for each region) \n",
    "    using the best read calling threshold for the comparison of cases and controls\n",
    "    above a certain average effect size.\n",
    "    \n",
    "    mat: ndarray of samples x regions x thresholds x (methylcounts, counts)\n",
    "    \"\"\"\n",
    "    \n",
    "    assert len(case_classes) >= 1\n",
    "    assert len(control_classes) >= 1\n",
    "\n",
    "    # label each sample as one of the case classes or not\n",
    "    case_sel = None\n",
    "    for case_class in case_classes:\n",
    "        bools = mat.get_labels() == name_to_label[case_class]\n",
    "        if case_sel is None:\n",
    "            case_sel = bools\n",
    "        else:\n",
    "            case_sel = case_sel | bools\n",
    "\n",
    "    # label each sample as one of the control classes or not\n",
    "    control_sel = None\n",
    "    for control_class in control_classes:\n",
    "        bools = mat.get_labels() == name_to_label[control_class]\n",
    "        if control_sel is None:\n",
    "            control_sel = bools\n",
    "        else:\n",
    "            control_sel = control_sel | bools\n",
    "\n",
    "    case_x = mat.x[case_sel]\n",
    "    control_x = mat.x[control_sel]\n",
    "    \n",
    "    all_labels = [label_to_name[cls] for cls in mat.get_labels()]\n",
    "    case_labels = [label for label in all_labels if label in case_classes]\n",
    "    control_labels = [label for label in all_labels if label in control_classes ]\n",
    "\n",
    "    # initialize and fit data object. \n",
    "    case_control = ChoseSettingsAndRegionsForHMF()\n",
    "    case_control = case_control.fit(case_samples=case_x, control_samples=control_x)\n",
    "    col_meta = mat.get_column_metadata()[case_control.features_to_keep]\n",
    "    \n",
    "    # return cases and control counts using the best threshold feature per region\n",
    "    case_x_tfm, control_x_tfm = case_control.transform(case_x), case_control.transform(control_x)\n",
    "    \n",
    "    # calculate ratio of methyl counts to total counts\n",
    "    case_ratios = case_x_tfm[..., 0] / case_x_tfm[..., 1]\n",
    "    control_ratios = control_x_tfm[..., 0] / control_x_tfm[..., 1]\n",
    "    \n",
    "    ratios = np.concatenate((case_ratios, control_ratios), axis=0)\n",
    "    labels = case_labels + control_labels\n",
    "    \n",
    "    return ratios, labels, col_meta\n"
   ]
  },
  {
   "cell_type": "code",
   "execution_count": 15,
   "metadata": {},
   "outputs": [
    {
     "ename": "NameError",
     "evalue": "name 'ChoseSettingsAndRegionsForHMF' is not defined",
     "output_type": "error",
     "traceback": [
      "\u001b[0;31m---------------------------------------------------------------------------\u001b[0m",
      "\u001b[0;31mNameError\u001b[0m                                 Traceback (most recent call last)",
      "\u001b[0;32m<ipython-input-15-035901dd1352>\u001b[0m in \u001b[0;36m<module>\u001b[0;34m()\u001b[0m\n\u001b[1;32m      4\u001b[0m ratios, labels, col_meta = return_best_counts(mat_16K_rrbs, \n\u001b[1;32m      5\u001b[0m                                               \u001b[0mcontrol_classes\u001b[0m\u001b[0;34m=\u001b[0m\u001b[0mcontrol_classes\u001b[0m\u001b[0;34m,\u001b[0m\u001b[0;34m\u001b[0m\u001b[0;34m\u001b[0m\u001b[0m\n\u001b[0;32m----> 6\u001b[0;31m                                               case_classes=case_classes)\n\u001b[0m\u001b[1;32m      7\u001b[0m \u001b[0;34m\u001b[0m\u001b[0m\n\u001b[1;32m      8\u001b[0m \u001b[0;31m# Returns data or 767 regions\u001b[0m\u001b[0;34m\u001b[0m\u001b[0;34m\u001b[0m\u001b[0;34m\u001b[0m\u001b[0m\n",
      "\u001b[0;32m<ipython-input-14-a27a6ed640aa>\u001b[0m in \u001b[0;36mreturn_best_counts\u001b[0;34m(mat, case_classes, control_classes)\u001b[0m\n\u001b[1;32m     45\u001b[0m \u001b[0;34m\u001b[0m\u001b[0m\n\u001b[1;32m     46\u001b[0m     \u001b[0;31m# initialize and fit data object.\u001b[0m\u001b[0;34m\u001b[0m\u001b[0;34m\u001b[0m\u001b[0;34m\u001b[0m\u001b[0m\n\u001b[0;32m---> 47\u001b[0;31m     \u001b[0mcase_control\u001b[0m \u001b[0;34m=\u001b[0m \u001b[0mChoseSettingsAndRegionsForHMF\u001b[0m\u001b[0;34m(\u001b[0m\u001b[0;34m)\u001b[0m\u001b[0;34m\u001b[0m\u001b[0;34m\u001b[0m\u001b[0m\n\u001b[0m\u001b[1;32m     48\u001b[0m     \u001b[0mcase_control\u001b[0m \u001b[0;34m=\u001b[0m \u001b[0mcase_control\u001b[0m\u001b[0;34m.\u001b[0m\u001b[0mfit\u001b[0m\u001b[0;34m(\u001b[0m\u001b[0mcase_samples\u001b[0m\u001b[0;34m=\u001b[0m\u001b[0mcase_x\u001b[0m\u001b[0;34m,\u001b[0m \u001b[0mcontrol_samples\u001b[0m\u001b[0;34m=\u001b[0m\u001b[0mcontrol_x\u001b[0m\u001b[0;34m)\u001b[0m\u001b[0;34m\u001b[0m\u001b[0;34m\u001b[0m\u001b[0m\n\u001b[1;32m     49\u001b[0m     \u001b[0mcol_meta\u001b[0m \u001b[0;34m=\u001b[0m \u001b[0mmat\u001b[0m\u001b[0;34m.\u001b[0m\u001b[0mget_column_metadata\u001b[0m\u001b[0;34m(\u001b[0m\u001b[0;34m)\u001b[0m\u001b[0;34m[\u001b[0m\u001b[0mcase_control\u001b[0m\u001b[0;34m.\u001b[0m\u001b[0mfeatures_to_keep\u001b[0m\u001b[0;34m]\u001b[0m\u001b[0;34m\u001b[0m\u001b[0;34m\u001b[0m\u001b[0m\n",
      "\u001b[0;31mNameError\u001b[0m: name 'ChoseSettingsAndRegionsForHMF' is not defined"
     ]
    }
   ],
   "source": [
    "# extract counts for regions separating polyp/cancer from healthy, filtered using John's noise thresholds\n",
    "case_classes=['AA_CFP', 'AA_CAP', 'CRC_tissue']\n",
    "control_classes=['Normal_Colon_Tissue']\n",
    "ratios, labels, col_meta = return_best_counts(mat_16K_rrbs, \n",
    "                                              control_classes=control_classes,\n",
    "                                              case_classes=case_classes)\n",
    "\n",
    "# Returns data or 767 regions\n",
    "print(ratios.shape)\n",
    "#print(col_meta)"
   ]
  },
  {
   "cell_type": "markdown",
   "metadata": {},
   "source": [
    "## Are there linear combinations of features in panel V1 that separate dbGAP samples by type?"
   ]
  },
  {
   "cell_type": "code",
   "execution_count": null,
   "metadata": {},
   "outputs": [],
   "source": [
    "## Calculate HMFC feture on ~430 model regions in the dbGAP samples\n",
    "\"\"\"\n",
    "Original HMFC feature calc'd for DC1 data here:\n",
    "https://github.com/freenome/research/blob/master/summarizer/signature_commands/methylation_dc1.txt\n",
    "\n",
    "Update feature definition and bump version to v4:\n",
    "ftio create feature --bump-feature hyper_methylated_fragment_count_by_min_methyl_cpgs_per_region\n",
    ">> new shape (434, 31, 2)\n",
    ">> column_metadata: hyper_methylated_fragment_count_by_min_methyl_cpgs_per_region/v1\n",
    ">> dtype: uint16\n",
    "\n",
    "summarizer --func summarizer.methods.bamstat_runner.run \\\n",
    "    --region gs://reference-datafiles/beds/freenome_v1_panel_manual_and_automated_per_region_hmf_definition_20190823.bed \\\n",
    "    --statistic_kwargs \"{'min_methyl_cpgs': [3, 4, 5, 6, 7, 8, 9, 10, 11, 12, 13, 14, 15, 16, 17, 18, 19, 20, 21, 22, 23, 24, 25, 26, 27, 28, 29, 30, 31, 32, 33]}\" \\\n",
    "    --methyl_frag_statistic HMFC \\\n",
    "    --input_type training_class:colorectal_cancer_tissuerrbs_dbgap,colorectal_canceradjacentpolyp_tissuerrbs_dbgap_v2,colorectal_cancerfreepolyp_tissuerrbs_dbgap,colorectal_healthy_tissuerrbs_dbgap_v2,peripheralbloodleukocytes_canceradjacentpolyp_tissuerrbs_dbgap,peripheralbloodleukocytes_cancerfreepolyp_tissuerrbs_dbgap \\\n",
    "    --out_path hyper_methylated_fragment_count_by_min_methyl_cpgs_per_region \\\n",
    "    --version 4 \\\n",
    "    --partitions preempt-standard16 \\\n",
    "    --c 14 \\\n",
    "    --mem 32000 \\\n",
    "    --download_bam_if_not_local \\\n",
    "    --skip_duplicate_removal  #rrbs data looks like duplicates so skip this\n",
    "    \n",
    "\"\"\"\n",
    "\n",
    "classes = [('colorectal_cancer_tissuerrbs_dbgap', 5),\n",
    "           ('colorectal_canceradjacentpolyp_tissuerrbs_dbgap_v2', 4),\n",
    "           ('colorectal_cancerfreepolyp_tissuerrbs_dbgap', 3),\n",
    "           ('colorectal_healthy_tissuerrbs_dbgap_v2', 2),\n",
    "           ('peripheralbloodleukocytes_canceradjacentpolyp_tissuerrbs_dbgap', 1),\n",
    "           ('peripheralbloodleukocytes_cancerfreepolyp_tissuerrbs_dbgap', 0)]\n",
    "\n",
    "mat_434_rrbs = mf.create(classes=classes,\n",
    "                feature='hyper_methylated_fragment_count_by_min_methyl_cpgs_per_region_v4', skip_cache=True)\n",
    "\n",
    "# there are 434 regions in the subset of panel v1: (85, 434, 31, 2)\n",
    "print(mat_434_rrbs.x.shape)\n",
    "\n",
    "mat434_classes = [ label_to_name[cls] for cls in mat_434_rrbs.get_labels()]\n",
    "\n",
    "mat434_sample_metadata = mat_434_rrbs.get_metadata()"
   ]
  },
  {
   "cell_type": "code",
   "execution_count": 18,
   "metadata": {},
   "outputs": [],
   "source": [
    "label_to_name = {\n",
    "    5:'CRC_tissue',\n",
    "    4:'AA_CAP',\n",
    "    3:'AA_CFP',\n",
    "    2:'Normal_Colon_Tissue', \n",
    "    1:'PBL_CAP',\n",
    "    0:'PBL_CFP',\n",
    "}"
   ]
  },
  {
   "cell_type": "code",
   "execution_count": 20,
   "metadata": {},
   "outputs": [
    {
     "name": "stdout",
     "output_type": "stream",
     "text": [
      "Input regions: 434\n",
      "Keeping 380 regions\n",
      "(29, 380)\n"
     ]
    }
   ],
   "source": [
    "# preprocess data\n",
    "df_crc_healthy_434reg_pct_meth, df_crc_healthy_434reg_labels, df_crc_healthy_434reg_col_metadata = process_data(mat_434_rrbs, classes=[\"CRC_tissue\",\"Normal_Colon_Tissue\"])\n",
    "print(df_crc_healthy_434reg_pct_meth.shape)"
   ]
  },
  {
   "cell_type": "code",
   "execution_count": 23,
   "metadata": {},
   "outputs": [
    {
     "name": "stdout",
     "output_type": "stream",
     "text": [
      "(29, 380)\n"
     ]
    },
    {
     "data": {
      "image/png": "[encoded data removed]",
      "text/plain": [
       "<Figure size 432x288 with 1 Axes>"
      ]
     },
     "metadata": {
      "needs_background": "light"
     },
     "output_type": "display_data"
    },
    {
     "data": {
      "text/plain": [
       "<Figure size 432x288 with 0 Axes>"
      ]
     },
     "metadata": {},
     "output_type": "display_data"
    },
    {
     "data": {
      "image/png": "[encoded data removed]",
      "text/plain": [
       "<Figure size 1440x1440 with 5 Axes>"
      ]
     },
     "metadata": {
      "needs_background": "light"
     },
     "output_type": "display_data"
    }
   ],
   "source": [
    "# run KMeans clustering\n",
    "test_opt_num_clust_kmeans(df_crc_healthy_434reg_pct_meth, df_crc_healthy_434reg_labels, sample_metadata=None, K=2, subset=None, fig_pfx=\"dbgap_kmeans_380reg\")"
   ]
  },
  {
   "cell_type": "code",
   "execution_count": 24,
   "metadata": {},
   "outputs": [
    {
     "name": "stdout",
     "output_type": "stream",
     "text": [
      "Input regions: 434\n",
      "Keeping 383 regions\n",
      "(16, 383)\n"
     ]
    }
   ],
   "source": [
    "# preprocess data CRC only\n",
    "df_crc_only_434reg_pct_meth, df_crc_only_434reg_labels, df_crc_only_434reg_col_metadata = process_data(mat_434_rrbs, classes=[\"CRC_tissue\"])\n",
    "print(df_crc_only_434reg_pct_meth.shape)"
   ]
  },
  {
   "cell_type": "code",
   "execution_count": 26,
   "metadata": {},
   "outputs": [
    {
     "name": "stdout",
     "output_type": "stream",
     "text": [
      "(16, 383)\n"
     ]
    },
    {
     "data": {
      "image/png": "[encoded data removed]",
      "text/plain": [
       "<Figure size 432x288 with 1 Axes>"
      ]
     },
     "metadata": {
      "needs_background": "light"
     },
     "output_type": "display_data"
    },
    {
     "data": {
      "text/plain": [
       "<Figure size 432x288 with 0 Axes>"
      ]
     },
     "metadata": {},
     "output_type": "display_data"
    },
    {
     "data": {
      "image/png": "[encoded data removed]",
      "text/plain": [
       "<Figure size 1440x1440 with 5 Axes>"
      ]
     },
     "metadata": {
      "needs_background": "light"
     },
     "output_type": "display_data"
    }
   ],
   "source": [
    "# run KMeans clustering\n",
    "test_opt_num_clust_kmeans(df_crc_only_434reg_pct_meth, df_crc_only_434reg_labels, sample_metadata=None, K=3, subset=None, fig_pfx=\"dbgap_kmeans_383reg_crc_only\")"
   ]
  },
  {
   "cell_type": "code",
   "execution_count": null,
   "metadata": {},
   "outputs": [],
   "source": [
    "# extract best counts for panel v1 regions using John's filtering method:\n",
    "\"\"\"\n",
    "case_classes=['AA_CFP', 'AA_CAP', 'CRC_tissue']\n",
    "control_classes=['Normal_Colon_Tissue']\n",
    "ratios, labels, col_meta = return_best_counts(mat2, \n",
    "                                              control_classes=control_classes,\n",
    "                                              case_classes=case_classes)\n",
    "# Returns only 4 regions\n",
    "print(ratios.shape)\n",
    "print(col_meta)\n",
    "\"\"\""
   ]
  },
  {
   "cell_type": "code",
   "execution_count": 10,
   "metadata": {},
   "outputs": [],
   "source": [
    "# Instead select regions at a threshold of 3 CpGs with > NUM total counts in all samples\n",
    "label_to_name = {\n",
    "    5:'CRC_tissue',\n",
    "    4:'AA_CAP',\n",
    "    3:'AA_CFP',\n",
    "    2:'Normal_Colon_Tissue', \n",
    "    1:'PBL_CAP',\n",
    "    0:'PBL_CFP',\n",
    "}\n",
    "\n",
    "#434 regions\n",
    "\n",
    "\n",
    "def counts_by_threshold(mat, NREADS, histname):\n",
    "    \"\"\"Return matrix of methyl/total count ratios using CpG threshold = 3,  for regions where there are at \n",
    "    least NREADS total reads.\n",
    "    \"\"\"\n",
    "    # plot how sparse is the RRBS data for the 434 v1 panel regions\n",
    "    data_thr3 = mat.x[:,:,0,1]\n",
    "    \n",
    "    region_mean_counts = np.mean(data_thr3, axis=0)\n",
    "    try:\n",
    "        region_lengths = [ (d[\"end\"]-d[\"start\"])/100 for d in mat.get_column_metadata() ]\n",
    "    except KeyError:\n",
    "        region_lengths = [ (d[\"stop\"]-d[\"start\"])/100 for d in mat.get_column_metadata() ]\n",
    "    region_mean_counts_norm = region_mean_counts / (region_lengths)\n",
    "    \n",
    "    plt.figure()\n",
    "    plt.hist(region_mean_counts_norm, bins=100)\n",
    "    plt.title(f\"Mean fragments per 100bp per region per sample {data_thr3.shape[1]}\")\n",
    "    plt.ylabel(\"Number of regions\")\n",
    "    plt.xlabel(\"Mean fragment counts\")\n",
    "    #plt.xlim((0,300))\n",
    "    plt.savefig(f\"./{histname}\")\n",
    "\n",
    "    regions_to_keep = []\n",
    "    for col in range(data_thr3.shape[1]):\n",
    "        if not any(data_thr3[:,col] < NREADS):\n",
    "            regions_to_keep.append(col)\n",
    "\n",
    "    mat3 = mat.x[:,:,0,:] # counts at thresh cpg = 3\n",
    "    mat4 = mat3[:,regions_to_keep,:] # filter to regions with >= NREADs in all samples\n",
    "    ratios_sel_reg = mat4[:,:,0] / mat4[:,:,1]\n",
    "    col_meta_sel_reg = mat.get_column_metadata()[regions_to_keep]\n",
    "\n",
    "    # 367 regions have enough reads in the RRBS data\n",
    "    print(ratios_sel_reg.shape)\n",
    "    \n",
    "    return ratios_sel_reg, col_meta_sel_reg, regions_to_keep"
   ]
  },
  {
   "cell_type": "code",
   "execution_count": 11,
   "metadata": {},
   "outputs": [
    {
     "name": "stdout",
     "output_type": "stream",
     "text": [
      "(85, 384)\n",
      "(85, 14524)\n"
     ]
    },
    {
     "data": {
      "image/png": "[encoded data removed]",
      "text/plain": [
       "<Figure size 432x288 with 1 Axes>"
      ]
     },
     "metadata": {
      "needs_background": "light"
     },
     "output_type": "display_data"
    },
    {
     "data": {
      "image/png": "[encoded data removed]",
      "text/plain": [
       "<Figure size 432x288 with 1 Axes>"
      ]
     },
     "metadata": {
      "needs_background": "light"
     },
     "output_type": "display_data"
    }
   ],
   "source": [
    "# return counts at specified HMF calling threshold\n",
    "mat434_classes = [ label_to_name[cls] for cls in mat_434_rrbs.get_labels()]\n",
    "mat434_ratios, mat434_col_meta, mat434_regions_to_keep = counts_by_threshold(mat_434_rrbs, NREADS=3, histname=\"rrbs_coverage_v1_panel.png\")\n",
    "mat434_sample_metadata = mat_434_rrbs.get_metadata()\n",
    "\n",
    "mat16K_classes = [ label_to_name[cls] for cls in mat_16K_rrbs.get_labels()]\n",
    "mat16K_ratios, mat16K_col_meta, mat16K_regions_to_keep = counts_by_threshold(mat_16K_rrbs, NREADS=3, histname=\"rrbs_coverage_16K_regions.png\")\n",
    "mat16K_sample_metadata = mat_16K_rrbs.get_metadata()\n"
   ]
  },
  {
   "cell_type": "code",
   "execution_count": null,
   "metadata": {},
   "outputs": [],
   "source": [
    "# A functionto perform clustering\n",
    "from sklearn.decomposition import PCA\n",
    "from sklearn.discriminant_analysis import LinearDiscriminantAnalysis\n",
    "\n",
    "def run_clusters(mat, classes, figname):\n",
    "    \n",
    "    class_set = sorted(list(set(classes)))\n",
    "\n",
    "    pca = PCA(n_components=4)\n",
    "    pca = pca.fit(mat)\n",
    "    ratios_r = pca.transform(mat)\n",
    "    #print(ratios_r)\n",
    "\n",
    "    # how similar are normal tissue samples in the new space?\n",
    "    #samples = [label==\"Normal_Colon_Tissue\" for label in labels]\n",
    "    #print(ratios_r[samples,:])\n",
    "\n",
    "    # Plot PCA and LDA results\n",
    "    colors = ['purple', 'turquoise', 'darkorange', 'pink', 'cyan', 'blue']\n",
    "    colors = colors[0:len(class_set)]\n",
    "    lw = 2\n",
    "\n",
    "    plt.figure(figsize=(10,10))\n",
    "\n",
    "    ## PCA Plot\n",
    "    plt.subplot(221)\n",
    "    for color, cls in zip(colors, class_set):\n",
    "        samples = [name == cls for name in classes]\n",
    "        plt.scatter(ratios_r[samples, 0], ratios_r[samples, 1], color=color, alpha=.8, lw=lw,\n",
    "                    label=cls)\n",
    "    plt.legend(loc='best', shadow=False, scatterpoints=1)\n",
    "    plt.xlabel(f\"PC1 ({round(pca.explained_variance_ratio_[0]*100,1)}%)\")\n",
    "    plt.ylabel(f\"PC2 ({round(pca.explained_variance_ratio_[1]*100,1)}%)\")\n",
    "    plt.title('PCA of RRBS Data')\n",
    "\n",
    "    plt.subplot(222)\n",
    "    for color, cls in zip(colors, class_set):\n",
    "        samples = [name == cls for name in classes]\n",
    "        plt.scatter(ratios_r[samples, 2], ratios_r[samples, 3], color=color, alpha=.8, lw=lw,\n",
    "                    label=cls)\n",
    "    plt.legend(loc='best', shadow=False, scatterpoints=1)\n",
    "    plt.xlabel(f\"PC3 ({round(pca.explained_variance_ratio_[2]*100,1)}%)\")\n",
    "    plt.ylabel(f\"PC4 ({round(pca.explained_variance_ratio_[3]*100,1)}%)\")\n",
    "    plt.title('PCA of RRBS Data')\n",
    "\n",
    "\n",
    "    ## LDA Plot\n",
    "    if len(class_set) < 3: \n",
    "        print(\"Too few classes for doing LDA\")\n",
    "    else:\n",
    "        lda = LinearDiscriminantAnalysis(n_components=len(class_set)-1)\n",
    "        lda = lda.fit(mat, classes)\n",
    "        ratios_r2 = lda.transform(mat)\n",
    "        #print(ratios_r2)\n",
    "        \n",
    "        plt.subplot(223)\n",
    "        for color, cls in zip(colors, class_set):\n",
    "            samples = [name == cls for name in classes]\n",
    "            plt.scatter(ratios_r2[samples, 0], ratios_r2[samples, 1], color=color, alpha=.8, lw=lw,\n",
    "                        label=cls)\n",
    "        plt.legend(loc='best', shadow=False, scatterpoints=1)\n",
    "        plt.xlabel(f\"LDA1 ({round(lda.explained_variance_ratio_[0]*100,1)}%)\")\n",
    "        plt.ylabel(f\"LDA2 ({round(lda.explained_variance_ratio_[1]*100,1)}%)\")\n",
    "        plt.title('LDA of RRBS Data')\n",
    "\n",
    "        if len(class_set) >= 3:\n",
    "            plt.subplot(224)\n",
    "            for color, cls in zip(colors, class_set):\n",
    "                samples = [name == cls for name in classes]\n",
    "                plt.scatter(ratios_r2[samples, 1], ratios_r2[samples, 2], color=color, alpha=.8, lw=lw,label=cls)\n",
    "            plt.legend(loc='best', shadow=False, scatterpoints=1)\n",
    "            plt.xlabel(f\"LDA2 ({round(lda.explained_variance_ratio_[1]*100,1)}%)\")\n",
    "            plt.ylabel(f\"LDA3 ({round(lda.explained_variance_ratio_[2]*100,1)}%)\")\n",
    "            plt.title('LDA of RRBS Data')\n",
    "\n",
    "    plt.savefig(f\"./{figname}\")\n",
    "    \n",
    "    return lda"
   ]
  },
  {
   "cell_type": "code",
   "execution_count": null,
   "metadata": {},
   "outputs": [],
   "source": [
    "# filter data for classes of interest\n",
    "\n",
    "# remake the data matrix to include all samples FIRST\n",
    "\n",
    "#keep_classes = ['AA_CFP', 'AA_CAP', 'CRC_tissue','Normal_Colon_Tissue', 'PBL_CAP', 'PBL_CFP']\n",
    "#keep_classes = [\"PBL_CAP\", \"PBL_CFP\", \"Normal_Colon_Tissue\"]\n",
    "keep_classes = ['AA_CFP', 'AA_CAP', 'CRC_tissue','Normal_Colon_Tissue']\n",
    "\n",
    "# filter 434 matrix\n",
    "samples_to_keep = [(name in keep_classes) for name in mat434_classes]\n",
    "mat434_ratios = mat434_ratios[samples_to_keep] \n",
    "mat434_classes = np.array(mat434_classes)[samples_to_keep]\n",
    "print(mat434_ratios.shape)\n",
    "print(Counter(mat434_classes))\n",
    "\n",
    "# filter 16K matrix\n",
    "samples_to_keep = [(name in keep_classes) for name in mat16K_classes]\n",
    "mat16K_ratios = mat16K_ratios[samples_to_keep] \n",
    "mat16K_classes = np.array(mat16K_classes)[samples_to_keep]\n",
    "print(mat16K_ratios.shape)\n",
    "print(Counter(mat16K_classes))\n",
    "\n",
    "# Clustering on 434 capture regions\n",
    "lda434 = run_clusters(mat434_ratios, mat434_classes, figname=\"tissue_434reg_lda_pca.png\")\n",
    "\n",
    "# Clustering on 16K clean regions\n",
    "lda16K = run_clusters(mat16K_ratios, mat16K_classes, figname=\"tissue_16Kreg_pca_lda.png\")"
   ]
  },
  {
   "cell_type": "code",
   "execution_count": null,
   "metadata": {},
   "outputs": [],
   "source": [
    "# filter data for classes of interest\n",
    "\n",
    "# remake the data matrix to include all samples FIRST\n",
    "\n",
    "#keep_classes = ['AA_CFP', 'AA_CAP', 'CRC_tissue','Normal_Colon_Tissue', 'PBL_CAP', 'PBL_CFP']\n",
    "keep_classes = [\"PBL_CAP\", \"PBL_CFP\", \"Normal_Colon_Tissue\"]\n",
    "\n",
    "# filter 434 matrix\n",
    "samples_to_keep = [(name in keep_classes) for name in mat434_classes]\n",
    "mat434_ratios = mat434_ratios[samples_to_keep] \n",
    "mat434_classes = np.array(mat434_classes)[samples_to_keep]\n",
    "mat434_sample_metadata = mat_434_rrbs.get_metadata()[samples_to_keep]\n",
    "print(mat434_ratios.shape)\n",
    "print(Counter(mat434_classes))\n",
    "\n",
    "# filter 16K matrix\n",
    "samples_to_keep = [(name in keep_classes) for name in mat16K_classes]\n",
    "mat16K_ratios = mat16K_ratios[samples_to_keep] \n",
    "mat16K_classes = np.array(mat16K_classes)[samples_to_keep]\n",
    "print(mat16K_ratios.shape)\n",
    "print(Counter(mat16K_classes))\n",
    "\n",
    "# Clustering on 434 capture regions\n",
    "lda434 = run_clusters(mat434_ratios, mat434_classes, figname=\"PBL_434reg_lda_pca.png\")\n",
    "\n",
    "# Clustering on 16K clean regions\n",
    "lda16K = run_clusters(mat16K_ratios, mat16K_classes, figname=\"PBL_16Kreg_pca_lda.png\")"
   ]
  },
  {
   "cell_type": "code",
   "execution_count": null,
   "metadata": {},
   "outputs": [],
   "source": [
    "# filter data for classes of interest\n",
    "\n",
    "# remake the data matrix to include all samples FIRST\n",
    "\n",
    "keep_classes = ['AA_CFP', 'AA_CAP', 'CRC_tissue','Normal_Colon_Tissue', 'PBL_CAP', 'PBL_CFP']\n",
    "#keep_classes = [\"PBL_CAP\", \"PBL_CFP\", \"Normal_Colon_Tissue\"]\n",
    "\n",
    "# filter 434 matrix\n",
    "samples_to_keep = [(name in keep_classes) for name in mat434_classes]\n",
    "mat434_ratios = mat434_ratios[samples_to_keep] \n",
    "mat434_classes = np.array(mat434_classes)[samples_to_keep]\n",
    "mat434_sample_metadata = mat_434_rrbs.get_metadata()[samples_to_keep]\n",
    "print(mat434_ratios.shape)\n",
    "print(Counter(mat434_classes))\n",
    "\n",
    "# filter 16K matrix\n",
    "samples_to_keep = [(name in keep_classes) for name in mat16K_classes]\n",
    "mat16K_ratios = mat16K_ratios[samples_to_keep] \n",
    "mat16K_classes = np.array(mat16K_classes)[samples_to_keep]\n",
    "print(mat16K_ratios.shape)\n",
    "print(Counter(mat16K_classes))"
   ]
  },
  {
   "cell_type": "code",
   "execution_count": null,
   "metadata": {},
   "outputs": [],
   "source": [
    "# Clustering on 434 capture regions\n",
    "lda434 = run_clusters(mat434_ratios, mat434_classes, figname=\"All_types_434reg_lda_pca.png\")"
   ]
  },
  {
   "cell_type": "code",
   "execution_count": null,
   "metadata": {},
   "outputs": [],
   "source": [
    "# Clustering on 16K clean regions\n",
    "lda16K = run_clusters(mat16K_ratios, mat16K_classes, figname=\"All_types_16Kreg_pca_lda.png\")"
   ]
  },
  {
   "cell_type": "code",
   "execution_count": null,
   "metadata": {},
   "outputs": [],
   "source": [
    "## warnings.warn(\"Variables are collinear.\") Heatmapts of co-methylation\n",
    "#some regions are co-methylated. thus many decision boundary coeficients are possible for separating samples: \n",
    "#https://stats.stackexchange.com/questions/29385/collinear-variables-in-multiclass-lda-training\n",
    "\n",
    "# definitely some co-methylatated clusters, within classes? \n",
    "\n",
    "# visualize data correlations (of methylation ratios)\n",
    "import seaborn as sns\n",
    "for cls in [\"Normal_Colon_Tissue\", \"CRC_tissue\"]:\n",
    "    samples = [name == cls for name in names]\n",
    "    ratios_sel_reg_cls = ratios_sel_reg[samples,:]\n",
    "    corr = pd.DataFrame(ratios_sel_reg_cls).corr()\n",
    "    plt.figure(figsize=(30,30))\n",
    "    sns.clustermap(corr)\n",
    "    plt.title(f\"Co-methylation in {cls} (N={sum(samples)})\", size=18)"
   ]
  },
  {
   "cell_type": "code",
   "execution_count": null,
   "metadata": {},
   "outputs": [],
   "source": [
    "# Which regions load most heavily on the LDA axes?\n",
    "\n",
    "lda = lda434\n",
    "col_meta_sel_reg = mat434_col_meta\n",
    "\n",
    "#print(lda.coef_)\n",
    "plt.figure(figsize=(20,5))\n",
    "plt.subplot(121)\n",
    "plt.hist(abs(np.array(lda.coef_[0])), bins=30)\n",
    "plt.title(\"LDA1 Loadings\")\n",
    "plt.xlabel(\"LDA1 loading\")\n",
    "plt.ylabel(\"Number of regions\")\n",
    "lda_ranks = pd.DataFrame({\"LD1_loading\":abs(lda.coef_[0]), \"LD2_loading\":abs(lda.coef_[1])}, index=col_meta_sel_reg)\n",
    "print(lda_ranks.sort_values(by=\"LD1_loading\",ascending=False)[0:6])\n",
    "\n",
    "\n",
    "plt.subplot(122)\n",
    "plt.hist(abs(np.array(lda.coef_[1])), bins=30)\n",
    "plt.title(\"LDA2 Loadings\")\n",
    "plt.xlabel(\"LDA2 loading\")\n",
    "plt.ylabel(\"Number of regions\")\n",
    "print(lda_ranks.sort_values(by=\"LD2_loading\",ascending=False)[0:6])\n",
    "\n",
    "print([metadict[\"gene_name\"] for metadict in lda_ranks.sort_values(by=\"LD1_loading\",ascending=False).index][0:10])\n",
    "print([metadict[\"gene_name\"] for metadict in lda_ranks.sort_values(by=\"LD2_loading\",ascending=False).index][0:10])\n",
    "\n",
    "# two main regions appear to strongly determine separation between classes\n",
    "# ['EPHA4', 'ZNF518A', 'C9orf172', 'CDKN2A', 'MNX1', 'LRRC45']\n",
    "\n",
    "plt.savefig(\"./PBL_434reg_lda_loading_hist.png\")"
   ]
  },
  {
   "cell_type": "code",
   "execution_count": null,
   "metadata": {},
   "outputs": [],
   "source": [
    "# compare methylation ratios at target regions in the 434 region data set\n",
    "ratios_sel_reg = mat434_ratios\n",
    "col_meta_sel_reg = mat434_col_meta\n",
    "names = mat434_classes\n",
    "\n",
    "classes_set = sorted(list(set(names)))\n",
    "df_ratios_sel_reg = pd.DataFrame(ratios_sel_reg*100)\n",
    "df_ratios_sel_reg.columns = [metadict[\"gene_name\"] for metadict in col_meta_sel_reg]\n",
    "df_ratios_sel_reg[\"class\"] = names\n",
    "#print(df_ratios_sel_reg.head())\n",
    "\n",
    "def plot_region(region, figname):\n",
    "    #print(df_ratios_sel_reg[\"class\"])\n",
    "    boxplot_data = df_ratios_sel_reg[[\"class\", region]]\n",
    "    #print(boxplot_data.head())\n",
    "    boxplot_data = [df_ratios_sel_reg[df_ratios_sel_reg[\"class\"]==cls][region] for cls in classes_set]\n",
    "        \n",
    "        #df_ratios_sel_reg[df_ratios_sel_reg[\"class\"]==\"Normal_Colon_Tissue\"][region],\n",
    "                    #df_ratios_sel_reg[df_ratios_sel_reg[\"class\"]==\"AA_CFP\"][region],\n",
    "                    #df_ratios_sel_reg[df_ratios_sel_reg[\"class\"]==\"AA_CAP\"][region],\n",
    "                    #df_ratios_sel_reg[df_ratios_sel_reg[\"class\"]==\"CRC_tissue\"][region]]\n",
    "    #print([len(x) for x in boxplot_data])\n",
    "    plt.figure(figsize=(15,5))\n",
    "    plt.boxplot(boxplot_data, labels=classes_set, sym=\"\")\n",
    "    plt.title(f\"percent methylation in region: {region}\", size=14)\n",
    "    plt.ylabel(\"% methylated fragments\")\n",
    "    for i in range(len(classes_set)):\n",
    "        x = np.random.normal(i+1, 0.04, size=len(boxplot_data[i]))\n",
    "        plt.plot(x, boxplot_data[i], 'ro')\n",
    "    \n",
    "    plt.savefig(f\"./{figname}\")\n",
    "    "
   ]
  },
  {
   "cell_type": "code",
   "execution_count": null,
   "metadata": {},
   "outputs": [],
   "source": [
    "plot_region(\"COL2A1\", figname=\"PLB_434reg_COL2A1_pct_methyl_barplot.png\")\n",
    "plot_region(\"KCNA2\", figname=\"PLB_434reg_KCNA2_pct_methyl_barplot.png\")\n",
    "plot_region(\"DGKG\", figname=\"PLB_434reg_DGKG_pct_methyl_barplot.png\")\n",
    "plot_region(\"EPHA4\", figname=\"PLB_434reg_EPHA4_pct_methyl_barplot.png\")\n",
    "# fails because region name is not unique, must contain multiple marker regions . . .\n",
    "#plot_region(\"C9orf172\")"
   ]
  },
  {
   "cell_type": "code",
   "execution_count": null,
   "metadata": {},
   "outputs": [],
   "source": [
    "# so, this seems to be a small sample size problem. The top predictors seem to be unmethylated in some classes by \n",
    "# in this data set. predictor regions may be largely so because of stochastisticy"
   ]
  },
  {
   "cell_type": "markdown",
   "metadata": {},
   "source": [
    "## All tissue sample types including CAP vs. CFP are linearly separable (LDA). \n",
    "### Try to cluster DC1.5 cfDA samples using the decision boundaries from tissue analysis"
   ]
  },
  {
   "cell_type": "code",
   "execution_count": null,
   "metadata": {},
   "outputs": [],
   "source": [
    "# import DC1.5 data\n",
    "\n",
    "dc_classes = [('colorectal_benign_targetmethyl1_discovery1p5', 5),\n",
    "                 ('colorectal_cancer_targetmethyl1_discovery1p5', 4),\n",
    "                 ('colorectal_healthy_targetmethyl1_discovery1p5', 3),\n",
    "                 ('colorectal_healthy_targetmethyl1_discovery1p5_panelofneg', 2), \n",
    "                 #('all_unclassifiable_targetmethyl1_discovery1p5', 1),\n",
    "                 ('colorectal_precancer_targetmethyl1_discovery1p5', 0)]\n",
    "\n",
    "dc_mat = mf.create(classes=dc_classes, \n",
    "                   feature='hyper_methylated_fragment_count_by_min_methyl_cpgs_per_region_v1', \n",
    "                   skip_cache=True)\n",
    "\n",
    "# 273 samples, 434 regions, in dc cohort\n",
    "print(dc_mat.x.shape)\n",
    "\n",
    "dc_label_to_name = {5:\"Benign\",\n",
    "                   4:\"Cancer\",\n",
    "                   3:\"Healthy\",\n",
    "                   2:\"PoN\",\n",
    "                   0:\"Pre_Cancer\"}\n",
    "\n",
    "dc_classes = [dc_label_to_name[lab] for lab in dc_mat.get_labels()]"
   ]
  },
  {
   "cell_type": "code",
   "execution_count": null,
   "metadata": {},
   "outputs": [],
   "source": [
    "# coverage over 434 regions in cfDNA\n",
    "\n",
    "dc_mat_new = dc_mat.x[:,:,0,1]\n",
    "dc_region_mean_counts = np.mean(dc_mat_new, axis=0)\n",
    "region_lengths = [ (d[\"end\"]-d[\"start\"])/100 for d in dc_mat.get_column_metadata() ]\n",
    "dc_region_mean_counts_norm = dc_region_mean_counts / (region_lengths)\n",
    "    \n",
    "plt.figure()\n",
    "plt.hist(dc_region_mean_counts_norm, bins=100)\n",
    "plt.title(f\"Mean fragments per 100bp per region per sample: cfDNA\")\n",
    "plt.ylabel(\"Number of regions\")\n",
    "plt.xlabel(\"Mean fragment counts per 100 bp\")\n",
    "#plt.xlim((0,300))\n",
    "plt.savefig(\"./cfDNA_coverage_v1_regions.png\")"
   ]
  },
  {
   "cell_type": "code",
   "execution_count": null,
   "metadata": {},
   "outputs": [],
   "source": [
    "# Project DC1 cfDNA samples onto RRBS LDA feature space\n",
    "\n",
    "lda = lda434\n",
    "regions_to_keep = mat434_regions_to_keep\n",
    "\n",
    "dc_ratios = dc_mat.x[:,regions_to_keep,0,0] / dc_mat.x[:,regions_to_keep,0,1]\n",
    "\n",
    "dc_ratios_r2 = lda.transform(dc_ratios)\n",
    "\n",
    "dc_classes_set = list(set(dc_classes))\n",
    "\n",
    "# one sample is an outlier. remove for plotting purposes\n",
    "#outlier_indx = int(np.where(dc_ratios_r2[:,0] == max(dc_ratios_r2[:,0]))[0])\n",
    "#dc_ratios_r2 = np.delete(dc_ratios_r2, outlier_indx, axis=0)\n",
    "#dc_names = np.delete(dc_names, outlier_indx, axis=0)\n",
    "\n",
    "colors = ['purple', 'turquoise', 'darkorange', 'pink', 'cyan', 'blue']\n",
    "colors = colors[0:len(dc_classes_set)]\n",
    "lw = 2\n",
    "\n",
    "plt.figure(figsize=(20,10))\n",
    "plt.subplot(121)\n",
    "for color, cls in zip(colors, dc_classes_set):\n",
    "    samples = [name == cls for name in dc_classes]\n",
    "    plt.scatter(dc_ratios_r2[samples, 0], dc_ratios_r2[samples, 1], color=color, alpha=.8, lw=lw,\n",
    "                label=cls)\n",
    "plt.legend(loc='best', shadow=False, scatterpoints=1)\n",
    "plt.xlabel(f\"LDA1 {round(lda.explained_variance_ratio_[0]*100,1)}\")\n",
    "plt.ylabel(f\"LDA2 {round(lda.explained_variance_ratio_[1]*100,1)}\")\n",
    "plt.title('DC1 Samples on RRBS LDA dims')\n",
    "\n",
    "if dc_ratios_r2.shape[1] > 2:\n",
    "    plt.subplot(122)\n",
    "    for color, cls in zip(colors, classes):\n",
    "        samples = [name == cls for name in dc_classes]\n",
    "        plt.scatter(dc_ratios_r2[samples, 1], dc_ratios_r2[samples, 2], color=color, alpha=.8, lw=lw,label=cls)\n",
    "    plt.legend(loc='best', shadow=False, scatterpoints=1)\n",
    "    plt.xlabel(f\"LDA2 {round(lda.explained_variance_ratio_[1]*100,1)}\")\n",
    "    plt.ylabel(f\"LDA3 {round(lda.explained_variance_ratio_[2]*100,1)}\")\n",
    "    plt.title('DC1 Samples on RRBS LDA dims')\n"
   ]
  },
  {
   "cell_type": "code",
   "execution_count": null,
   "metadata": {},
   "outputs": [],
   "source": [
    "## Look for non-linear clusters in the dbGAP samples using DBSCAN (This did not work well)\n",
    "\n",
    "from sklearn.cluster import DBSCAN\n",
    "\n",
    "# cluster the data into five clusters\n",
    "dbscan = DBSCAN(eps=2.9, min_samples = 2)\n",
    "clusters = dbscan.fit_predict(ratios_sel_reg) #cluster the RRBS data\n",
    "\n",
    "#print(clusters)\n",
    "\n",
    "# plot the cluster assignments in LDA feature space\n",
    "plt.scatter(ratios_r2[:,0], ratios_r2[:,1], c=clusters, cmap=\"Accent\")\n",
    "plt.xlabel(\"LDA1\")\n",
    "plt.ylabel(\"LDA2\")\n",
    "\n",
    "from pandas import crosstab\n",
    "\n",
    "table = crosstab(names, clusters)\n",
    "print(table)"
   ]
  },
  {
   "cell_type": "markdown",
   "metadata": {},
   "source": [
    "## Cluster the dbGAP tissue samples using differences between blood and tissue. Use this feature space to look for clustering in the cfDNA DC1 samples. "
   ]
  },
  {
   "cell_type": "code",
   "execution_count": null,
   "metadata": {},
   "outputs": [],
   "source": [
    "# extract paired sample data\n",
    "\n",
    "meta = mat2.get_metadata()\n",
    "names = np.array([label_to_name[cls] for cls in mat2.get_labels()])\n",
    "patient_ids = np.array([str(dict['public_metadata']['submitted_subject_id']) for dict in meta])\n",
    "\n",
    "#print(crosstab(patient_ids, names))\n",
    "\n",
    "pbl_samples = np.array([ (\"PBL\" in x) for x in names])\n",
    "blood_data = mat2.x[pbl_samples,...]\n",
    "blood_patient_ids = patient_ids[pbl_samples]\n",
    "\n",
    "# a subset of 20 patients have blood samples\n",
    "#print(len(blood_patient_ids))\n",
    "\n",
    "# extract patient samples with matching blood samples\n",
    "filt = [(id in blood_patient_ids) for id in patient_ids]\n",
    "paired_data = mat2.x[filt,:,0,:]\n",
    "paired_ids = patient_ids[filt]\n",
    "paired_names = names[filt]\n",
    "#print(paired_data.shape) #three dimensions\n",
    "\n",
    "#filter out regions without at least NUM fragments in all samples\n",
    "NUM = 10\n",
    "regions_to_keep = []\n",
    "for col in range(paired_data.shape[1]):\n",
    "    if not any(paired_data[:,col,1] < NUM):\n",
    "        regions_to_keep.append(col)\n",
    "paired_data = paired_data[:,regions_to_keep,:]\n",
    "paired_data_ratios = paired_data[...,0] / paired_data[...,1]\n",
    "\n",
    "#print(paired_data_ratios.shape) #two dimensions\n",
    "\n",
    "# calculate tissue-blood ratio diffs\n",
    "filt = [(\"PBL\" in x) for x in paired_names]\n",
    "blood_ratios = paired_data_ratios[ filt,:]\n",
    "blood_ids = paired_ids[filt]\n",
    "blood_names = paired_names[filt]\n",
    "\n",
    "filt = [(\"PBL\" not in x) for x in paired_names]\n",
    "tissue_ratios = paired_data_ratios[filt,:]\n",
    "tissue_ids = paired_ids[filt]\n",
    "tissue_names = paired_names[filt]\n",
    "tissue_combos = [f\"{x}:{y}\" for x,y in zip(tissue_ids, tissue_names)]\n",
    "\n",
    "# for each tissue sample, calc diff with blood\n",
    "patient_diffs = []\n",
    "diff_names = []\n",
    "diff_patients = []\n",
    "for combo in set(tissue_combos):\n",
    "    patient = combo.split(\":\")[0]\n",
    "    tissue_class = combo.split(\":\")[1]\n",
    "    blood_val = blood_ratios[blood_ids==patient][0]  # a 1D array\n",
    "    \n",
    "    filt = [x==combo for x in tissue_combos]\n",
    "    tissue_val = tissue_ratios[filt]  # a 2D array\n",
    "\n",
    "    # if more than one tissue type replicate in the patient take the avg vals\n",
    "    if tissue_val.shape[0] > 1:\n",
    "        tissue_val = np.mean(tissue_val, axis=0)  # a 1D array\n",
    "    \n",
    "    if len(tissue_val.shape) > 1:\n",
    "        tissue_val = tissue_val[0,:] # a 1D array\n",
    "    \n",
    "    diff = tissue_val - blood_val  # a 1D array\n",
    "    patient_diffs.append(diff.tolist())\n",
    "    diff_names.append(tissue_class)\n",
    "    diff_patients.append(patient)\n",
    "\n",
    "#print(patient_diffs[0])\n",
    "df_diffs = pd.DataFrame.from_records(patient_diffs)\n",
    "df_diffs.index = [f\"{x}:{y}\" for x,y in zip(diff_patients, diff_names)]\n",
    "print(df_diffs.shape)\n",
    "df_diffs.head()"
   ]
  },
  {
   "cell_type": "code",
   "execution_count": null,
   "metadata": {},
   "outputs": [],
   "source": [
    "# cluster the diff data by tissue type\n",
    "\n",
    "lda = LinearDiscriminantAnalysis(n_components=len(set(diff_names))-1)\n",
    "lda = lda.fit(df_diffs, diff_names)\n",
    "ratios = lda.transform(df_diffs)\n",
    "\n",
    "plt.figure(figsize=(20,10))\n",
    "plt.subplot(121)\n",
    "for color, cls in zip(colors, set(diff_names)):\n",
    "    samples = [name == cls for name in diff_names]\n",
    "    plt.scatter(ratios[samples, 0], ratios[samples, 1], color=color, alpha=.8, lw=lw,\n",
    "                label=cls)\n",
    "plt.legend(loc='best', shadow=False, scatterpoints=1)\n",
    "plt.xlabel(f\"LDA1 {round(lda.explained_variance_ratio_[0]*100,1)}\")\n",
    "plt.ylabel(f\"LDA2 {round(lda.explained_variance_ratio_[1]*100,1)}\")\n",
    "\n",
    "plt.subplot(122)\n",
    "for color, cls in zip(colors, set(diff_names)):\n",
    "    samples = [name == cls for name in diff_names]\n",
    "    plt.scatter(ratios[samples, 1], ratios[samples, 2], color=color, alpha=.8, lw=lw,label=cls)\n",
    "plt.legend(loc='best', shadow=False, scatterpoints=1)\n",
    "plt.xlabel(f\"LDA2 {round(lda.explained_variance_ratio_[1]*100,1)}\")\n",
    "plt.ylabel(f\"LDA3 {round(lda.explained_variance_ratio_[2]*100,1)}\")"
   ]
  },
  {
   "cell_type": "code",
   "execution_count": null,
   "metadata": {},
   "outputs": [],
   "source": [
    "#plot region loadings on the LDA axes\n",
    "print(lda.coef_.shape) # (components x regions)\n",
    "\n",
    "plt.subplot(121)\n",
    "plt.hist(lda.coef_[0,:])\n",
    "outlier_indx = int(np.where(abs(lda.coef_)[0,:] == max(abs(lda.coef_)[0,:]))[0])\n",
    "# what is the most influential region for LDA1 for diff data?\n",
    "paired_data_regions = mat2.get_column_metadata()[regions_to_keep]\n",
    "print(paired_data_regions[outlier_indx])\n",
    "print(lda.coef_[0,outlier_indx])\n",
    "\n",
    "# what is the most influential region for LDA2 for diff data?\n",
    "plt.subplot(122)\n",
    "plt.hist(lda.coef_[1,:])\n",
    "outlier_indx = int(np.where(abs(lda.coef_)[1,:] == max(abs(lda.coef_)[1,:]))[0])\n",
    "print(paired_data_regions[outlier_indx])\n",
    "print(lda.coef_[1,outlier_indx])"
   ]
  },
  {
   "cell_type": "code",
   "execution_count": null,
   "metadata": {},
   "outputs": [],
   "source": [
    "# how similar are the predictors in pbl vs in cfDNA \n",
    "# plot the rank of predictors in PBL_CAP/PBL_CFP comparison vs rank in \n",
    "\"\"\"\n",
    "dc_classes = [('colorectal_benign_targetmethyl1_discovery1p5', 5),\n",
    "                 ('colorectal_cancer_targetmethyl1_discovery1p5', 4),\n",
    "                 ('colorectal_healthy_targetmethyl1_discovery1p5', 3),\n",
    "                 ('colorectal_healthy_targetmethyl1_discovery1p5_panelofneg', 2), \n",
    "                 #('all_unclassifiable_targetmethyl1_discovery1p5', 1),\n",
    "                 ('colorectal_precancer_targetmethyl1_discovery1p5', 0)]\n",
    "            \n",
    "dc_label_to_name = {5:\"Benign\",\n",
    "                   4:\"Cancer\",\n",
    "                   3:\"Healthy\",\n",
    "                   2:\"PoN\",\n",
    "                   0:\"Pre_Cancer\"} \n",
    "\"\"\"\n",
    "from scipy.stats import mannwhitneyu, rankdata, spearmanr\n",
    "from sklearn.linear_model import LinearRegression\n",
    "\n",
    "# calculate mat_rrbs and mat_dc for the same set of regions first . . .\n",
    "def run_rank_corr(dc_control_classes, dc_case_classes, figname):\n",
    "    \"\"\"Are similar sets of genes DMR between our classes and between the PBL classes? \n",
    "    Run MWU tests between cases and controls for methylation ratios in each region of the DC data set. \n",
    "    Run MWU tests between controls (PBL_CFP) and cases (PBL_CAP) in the RRBS data set.\n",
    "    Plot and measure correlation between ranks in the two comparisons\"\"\"\n",
    "    \n",
    "    assert mat434_ratios.shape[1] == dc_ratios.shape[1], \"PBL and DC data sets dont have the same number of regions\"\n",
    "    \n",
    "    # filter dc data to classes of interest\n",
    "    samples = [ cls in (dc_control_classes + dc_case_classes) for cls in dc_names]\n",
    "    dc_ratios2 = dc_ratios[samples]\n",
    "    dc_classes2 = np.array(dc_classes)[samples]\n",
    "    \n",
    "    # reclassify cases and controls in the DC data set\n",
    "    dc_classes2 = [ \"case\" if cls in dc_case_classes else \"control\" for cls in dc_classes2 ]\n",
    "    \n",
    "    # for each region in the rrbs data set calc MWU\n",
    "    rrbs_mwu_statistics = []\n",
    "    rrbs_mwu_pvals = []\n",
    "    dc_mwu_statistics = []\n",
    "    dc_mwu_pvals = [] \n",
    "    \n",
    "    for col in range(mat434_ratios.shape[1]):\n",
    "        \n",
    "        # compare PBL_CFP and PBL_CAP\n",
    "        pbl_cap = mat434_ratios[[(cls == \"PBL_CAP\") for cls in mat434_classes]][:,col]\n",
    "        #print(pbl_cap.shape)\n",
    "        pbl_cfp = mat434_ratios[[(cls == \"PBL_CFP\") for cls in mat434_classes]][:,col]\n",
    "        #print(pbl_cfp.shape)\n",
    "        if not any([x > 0 for x in (list(pbl_cap) + list(pbl_cfp))]):\n",
    "            #print(f\"region with no PBL methylation at all: {col}\")\n",
    "            U_pbl, p_val_pbl = 0, 1.0\n",
    "        else:\n",
    "            U_pbl, p_val_pbl = mannwhitneyu(pbl_cfp, pbl_cap, alternative='two-sided')\n",
    "        \n",
    "        \n",
    "        # compare DC control and case\n",
    "        dc_control = dc_ratios2[[(cls == \"control\") for cls in dc_classes2]][:,col]\n",
    "        #print(dc_control.shape)\n",
    "        dc_case = dc_ratios2[[(cls == \"case\") for cls in dc_classes2]][:,col]\n",
    "        #print(dc_case.shape)\n",
    "        U_dc, p_val_dc = mannwhitneyu(dc_control, dc_case, alternative='two-sided')\n",
    "        \n",
    "        # use only significantly DMR regions\n",
    "        p_thresh = 0.1\n",
    "        if (p_val_pbl < p_thresh):\n",
    "            dc_mwu_statistics.append(U_dc)\n",
    "            dc_mwu_pvals.append(p_val_dc)\n",
    "            rrbs_mwu_statistics.append(U_pbl)\n",
    "            rrbs_mwu_pvals.append(p_val_pbl)\n",
    "    \n",
    "    #print(dc_mwu_pvals)\n",
    "    #print(rrbs_mwu_pvals)\n",
    "    #plt.figure()\n",
    "    #plt.hist(rrbs_mwu_pvals)\n",
    "    #plt.figure()\n",
    "    #plt.hist(dc_mwu_pvals)\n",
    "    \n",
    "    #plot rank correlation by p_val\n",
    "    plt.figure(figsize=(20,5))\n",
    "    plt.subplot(121)\n",
    "    corr, corr_p = spearmanr(rrbs_mwu_pvals, dc_mwu_pvals)\n",
    "    x = rankdata(rrbs_mwu_pvals)\n",
    "    y = rankdata(dc_mwu_pvals)\n",
    "    x_arr = x.reshape(-1,1)\n",
    "    y_arr = y.reshape(-1,1)\n",
    "    lm = LinearRegression()  \n",
    "    lm.fit(x_arr, y_arr)  \n",
    "    Y_pred = lm.predict(x_arr)  \n",
    "    plt.plot(x_arr, Y_pred, color='red', ls=\"-\")\n",
    "    plt.scatter(x, y)\n",
    "    plt.xlabel(\"PBL DMR significance rank\")\n",
    "    plt.ylabel(\"DC DMR significance rank\")\n",
    "    plt.title(f\"p-value {dc_control_classes} vs. {dc_case_classes}\")\n",
    "    plt.text(x=max(x)-4, y=max(y), s=f\"corr = {np.round(corr,2)}\")\n",
    "    plt.text(x=max(x)-4, y=max(y)-2, s=f\"corr_p = {np.round(corr_p,2)}\")\n",
    "    \n",
    "    # plot rank correlation by U statistic\n",
    "    #plt.subplot(122)\n",
    "    #x = rankdata(rrbs_mwu_statistics)\n",
    "    #y = rankdata(dc_mwu_statistics)\n",
    "    #x_arr = x.reshape(-1,1)\n",
    "    #y_arr = y.reshape(-1,1)\n",
    "    #lm = LinearRegression()  \n",
    "    #lm.fit(x_arr, y_arr)  \n",
    "    #Y_pred = lm.predict(x_arr)  \n",
    "    #plt.plot(x_arr, Y_pred, color='red', ls=\"-\")\n",
    "    #plt.scatter(x, y)\n",
    "    #corr, corr_p = pearsonr(x, y)\n",
    "    #plt.xlabel(\"PBL DMR significance rank\")\n",
    "    #plt.ylabel(\"DC DMR significance rank\")\n",
    "    #plt.title(f\"U-statistic {dc_control_classes} vs. {dc_case_classes}\")\n",
    "    #plt.text(x=max(x)-4, y=max(y), s=f\"corr = {np.round(corr,2)}\")\n",
    "    \n",
    "    plt.savefig(f\"./{figname}\")\n",
    "    \n",
    "    "
   ]
  },
  {
   "cell_type": "code",
   "execution_count": null,
   "metadata": {},
   "outputs": [],
   "source": [
    "\"\"\"\n",
    "dc_label_to_name = {5:\"Benign\",\n",
    "                   4:\"Cancer\",\n",
    "                   3:\"Healthy\",\n",
    "                   2:\"PoN\",\n",
    "                   0:\"Pre_Cancer\"} \n",
    "\"\"\"\n",
    "dc_ratios = dc_mat.x[:,mat434_regions_to_keep,0,0] / dc_mat.x[:,mat434_regions_to_keep,0,1]\n",
    "dc_names = [dc_label_to_name[lab] for lab in dc_mat.get_labels()]\n",
    "\n",
    "dc_control_classes = [\"Benign\"]\n",
    "dc_case_classes = [\"Pre_Cancer\"]\n",
    "run_rank_corr(dc_control_classes=dc_control_classes, dc_case_classes=dc_case_classes, figname=\"rrbs_spearman_corr_1.png\")\n",
    "\n",
    "dc_control_classes = [\"Benign\"]\n",
    "dc_case_classes = [\"Pre_Cancer\", \"Cancer\"]\n",
    "run_rank_corr(dc_control_classes=dc_control_classes, dc_case_classes=dc_case_classes, figname=\"rrbs_spearman_corr_2.png\")\n",
    "\n",
    "dc_control_classes = [\"Benign\"]\n",
    "dc_case_classes = [\"Cancer\"]\n",
    "run_rank_corr(dc_control_classes=dc_control_classes, dc_case_classes=dc_case_classes, figname=\"rrbs_spearman_corr_3.png\")\n",
    "\n",
    "dc_control_classes = [\"Benign\", \"Pre_Cancer\"]\n",
    "dc_case_classes = [\"Cancer\"]\n",
    "run_rank_corr(dc_control_classes=dc_control_classes, dc_case_classes=dc_case_classes, figname=\"rrbs_spearman_corr_4.png\")\n",
    "\n",
    "dc_control_classes = [\"Healthy\", \"PoN\"]\n",
    "dc_case_classes = [\"Cancer\"]\n",
    "run_rank_corr(dc_control_classes=dc_control_classes, dc_case_classes=dc_case_classes, figname=\"rrbs_spearman_corr_5.png\")\n",
    "\n"
   ]
  },
  {
   "cell_type": "code",
   "execution_count": null,
   "metadata": {},
   "outputs": [],
   "source": [
    "# run a logistic regression to classify PBL_CAP vs PBL_CFP. \n",
    "# do enrichmentanalysis on significant predicctors\n",
    "\n"
   ]
  },
  {
   "cell_type": "code",
   "execution_count": null,
   "metadata": {},
   "outputs": [],
   "source": [
    "# look for de novo clusters within CRC or CRC/CAP RRBS data\n",
    "\n",
    "#keep_classes = ['AA_CFP', 'AA_CAP', 'CRC_tissue','Normal_Colon_Tissue']\n",
    "keep_classes = ['CRC_tissue','Normal_Colon_Tissue']\n",
    "#keep_classes = ['CRC_tissue','AA_CAP']\n",
    "#keep_classes = ['CRC_tissue']\n",
    "\n",
    "# filter 434 matrix\n",
    "samples_to_keep = [(name in keep_classes) for name in mat434_classes]\n",
    "mat434_ratios_new = mat434_ratios[samples_to_keep] \n",
    "mat434_classes_new = np.array(mat434_classes)[samples_to_keep]\n",
    "mat434_sample_metadata_new = mat_434_rrbs.get_metadata()[samples_to_keep]\n",
    "print(mat434_ratios_new.shape)\n",
    "print(Counter(mat434_classes_new))\n",
    "\n",
    "# filter 16K matrix\n",
    "samples_to_keep = [(name in keep_classes) for name in mat16K_classes]\n",
    "mat16K_ratios_new = mat16K_ratios[samples_to_keep] \n",
    "mat16K_classes_new = np.array(mat16K_classes)[samples_to_keep]\n",
    "print(mat16K_ratios_new.shape)\n",
    "print(Counter(mat16K_classes_new))\n",
    "\n"
   ]
  },
  {
   "cell_type": "code",
   "execution_count": null,
   "metadata": {},
   "outputs": [],
   "source": [
    "within_crc_lda16K = run_clusters(mat16K_ratios_new, mat16K_classes_new, figname=\"within_CRC_16Kreg_pca_lda.png\")"
   ]
  },
  {
   "cell_type": "code",
   "execution_count": null,
   "metadata": {},
   "outputs": [],
   "source": [
    "# heatmaps of clustering within CRC\n",
    "\n",
    "#labs = mat434_classes_new\n",
    "#labs = [ d[\"public_metadata\"][\"sex\"] for d in mat434_sample_metadata_new]\n",
    "#labs = [ d[\"public_metadata\"][\"body_site\"] for d in mat434_sample_metadata_new]\n",
    "#labs = [ d[\"public_metadata\"][\"crc_stage\"] for d in mat434_sample_metadata_new] # week corr with cluster\n",
    "\n",
    "tumor_pcts = [ d[\"public_metadata\"][\"tumor_percentage\"] for d in mat434_sample_metadata_new]\n",
    "tumor_pcts = [ \"0\" if x==None else str(x) for x in tumor_pcts]\n",
    "classes_new = [ \"Norm_tissue\" if x==\"Normal_Colon_Tissue\" else x for x in mat434_classes_new]\n",
    "labs = [f\"{a}%_{b}\" for a,b in zip(tumor_pcts,classes_new)] # lowest clusters with healthies\n",
    "\n",
    "plt.figure(figsize=(30,30))\n",
    "cl_grid = sns.clustermap(mat434_ratios_new.T, xticklabels=labs, yticklabels=[])\n",
    "plt.title(f\"Pct methylation\", size=18)\n",
    "plt.savefig(\"./within_CRC_434reg_heatmap.png\")\n",
    "\n",
    "# NOT RUN too many features, crashes graphical output\n",
    "#plt.figure(figsize=(30,30))\n",
    "#cl_grid = sns.clustermap(mat16K_ratios_new.T, xticklabels=labs, yticklabels=[])\n",
    "#plt.title(f\"Pct methylation\", size=18)\n",
    "#plt.savefig(\"./within_CRC_16Kreg_heatmap.png\")\n",
    "    "
   ]
  },
  {
   "cell_type": "code",
   "execution_count": null,
   "metadata": {},
   "outputs": [],
   "source": [
    "# find optimal number of clusters\n",
    "from sklearn.cluster import AgglomerativeClustering\n",
    "from sklearn import metrics\n",
    "\n",
    "def test_opt_num_clust(mat, figname):\n",
    "    k_vals = [2,3,4,5,6,7]\n",
    "    scores = []\n",
    "    for k in k_vals:\n",
    "        clust = AgglomerativeClustering(n_clusters=k, linkage=\"ward\")\n",
    "        clust.fit(mat)\n",
    "        #score = metrics.calinski_harabasz_score(mat, clust.labels_)\n",
    "        score = np.mean(metrics.silhouette_score(mat, clust.labels_))\n",
    "        scores.append(score)\n",
    "        #print(f\"groups {k} : {round(score, 3)}\")\n",
    "    plt.scatter(k_vals, scores, lw=2)\n",
    "    plt.plot(k_vals, scores, lw=2)\n",
    "    plt.xlabel(\"number of clusters\")\n",
    "    plt.ylabel(\"clustering score\")\n",
    "    plt.savefig(f\"./{figname}\")"
   ]
  },
  {
   "cell_type": "code",
   "execution_count": null,
   "metadata": {},
   "outputs": [],
   "source": [
    "test_opt_num_clust(mat434_ratios_new, \"rrbs_v1_panel_clust_scores_siloh_crc_norm.png\")"
   ]
  },
  {
   "cell_type": "code",
   "execution_count": null,
   "metadata": {},
   "outputs": [],
   "source": [
    "test_opt_num_clust(mat16K_ratios_new, \"rrbs_16Kreg_clust_scores_siloh_crc_norm.png\")"
   ]
  },
  {
   "cell_type": "code",
   "execution_count": null,
   "metadata": {},
   "outputs": [],
   "source": []
  }
 ],
 "metadata": {
  "kernelspec": {
   "display_name": "Python 3",
   "language": "python",
   "name": "python3"
  },
  "language_info": {
   "codemirror_mode": {
    "name": "ipython",
    "version": 3
   },
   "file_extension": ".py",
   "mimetype": "text/x-python",
   "name": "python",
   "nbconvert_exporter": "python",
   "pygments_lexer": "ipython3",
   "version": "3.7.4"
  }
 },
 "nbformat": 4,
 "nbformat_minor": 4
}
